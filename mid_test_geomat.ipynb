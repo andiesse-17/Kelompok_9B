{
  "cells": [
    {
      "cell_type": "markdown",
      "metadata": {
        "id": "view-in-github",
        "colab_type": "text"
      },
      "source": [
        "<a href=\"https://colab.research.google.com/github/andiesse-17/Kelompok_9B/blob/main/mid_test_geomat.ipynb\" target=\"_parent\"><img src=\"https://colab.research.google.com/assets/colab-badge.svg\" alt=\"Open In Colab\"/></a>"
      ]
    },
    {
      "cell_type": "markdown",
      "source": [
        "# **MID TEST GEOMAT**"
      ],
      "metadata": {
        "id": "yaUtjIuunuIU"
      },
      "id": "yaUtjIuunuIU"
    },
    {
      "cell_type": "markdown",
      "source": [
        "## **KELOMPOK 9B**\n",
        "1. Andi Esse Lamming Pulaweng (H061221064)\n",
        "2. Palupi Eka Putri (H061221041)\n",
        "3. Nur Annisa Lathifah Kamil (H061221043)\n",
        "4. Muhammad Syawal Alfareza (H061211077)\n",
        "5. Nadiva Amelia Naura (H061221066)"
      ],
      "metadata": {
        "id": "1bNsX4ron3zy"
      },
      "id": "1bNsX4ron3zy"
    },
    {
      "cell_type": "markdown",
      "source": [
        "### **TEOREMA BINOMIAL DAN DERET**"
      ],
      "metadata": {
        "id": "t2gH69p15BR8"
      },
      "id": "t2gH69p15BR8"
    },
    {
      "cell_type": "markdown",
      "source": [
        "##### **Teorema Binomial**"
      ],
      "metadata": {
        "id": "6h7W8iJS6Goe"
      },
      "id": "6h7W8iJS6Goe"
    },
    {
      "cell_type": "markdown",
      "source": [
        "Teorema Binomial adalah rumus yang digunakan untuk menghitung hasil pangkat dari jumlah dua bilangan, yaitu $(a + b)^n$. Diketahui bahwa $(a + b)^0 = 1$ and $(a + b)^1 = (a+b) = a+b$. Dan diketahui juga bahwa"
      ],
      "metadata": {
        "id": "Eel2jCYA6ZFu"
      },
      "id": "Eel2jCYA6ZFu"
    },
    {
      "cell_type": "markdown",
      "source": [
        "\\begin{equation}\n",
        "(a + b)^2 = (a + b)(a + b) = a(a + b) + b(a + b) = a^2 + 2ab + b^2 \\tag{3.1}\n",
        "\\end{equation}"
      ],
      "metadata": {
        "id": "WLzwBBFU7Opg"
      },
      "id": "WLzwBBFU7Opg"
    },
    {
      "cell_type": "markdown",
      "source": [
        "Jika mengikuti prosedur yang serupa untuk melakukan ekspansi, maka untuk ekspansi orde yang lebih tinggi dapat dipecahkan. Sebagai contoh"
      ],
      "metadata": {
        "id": "oYaJP7zD7hLy"
      },
      "id": "oYaJP7zD7hLy"
    },
    {
      "cell_type": "markdown",
      "source": [
        "\\begin{equation}\n",
        "(a + b)^3 = (a + b)(a + b)^2 = (a + b) + (a^2 + 2ab + b^2) = a^3 + 3a^2b + 3ab^2 + b^3 \\tag{3.2}\n",
        "\\end{equation}"
      ],
      "metadata": {
        "id": "gCYF6X7N8CXv"
      },
      "id": "gCYF6X7N8CXv"
    },
    {
      "cell_type": "markdown",
      "source": [
        "Ekspresi ini menjadi semakin panjang, dan sekarang pertanyaannya adalah apakah ada ekspresi umum untuk $(a + b)^n$ untuk sembarang bilangan bulat $n > 0$? Jawabannya adalah ya, dan ini adalah teorema binomial."
      ],
      "metadata": {
        "id": "E6tOFyvl8FX2"
      },
      "id": "E6tOFyvl8FX2"
    },
    {
      "cell_type": "code",
      "source": [
        "import sympy as sp\n",
        "\n",
        "# Mendefinisikan variabel a dan b\n",
        "a, b = sp.symbols('a b')\n",
        "\n",
        "# Mendefinisikan ekspresi\n",
        "expression = (a + b)**5\n",
        "\n",
        "# Menghitung ekspansi\n",
        "expanded_expression = sp.expand(expression)\n",
        "\n",
        "# Menampilkan hasil\n",
        "print(expanded_expression)"
      ],
      "metadata": {
        "colab": {
          "base_uri": "https://localhost:8080/"
        },
        "id": "M1PtNyw88lB6",
        "outputId": "df1fc226-2e70-41be-92d1-83801e7a3c0c"
      },
      "id": "M1PtNyw88lB6",
      "execution_count": null,
      "outputs": [
        {
          "output_type": "stream",
          "name": "stdout",
          "text": [
            "a**5 + 5*a**4*b + 10*a**3*b**2 + 10*a**2*b**3 + 5*a*b**4 + b**5\n"
          ]
        }
      ]
    },
    {
      "cell_type": "markdown",
      "source": [
        "##### **Faktorial**"
      ],
      "metadata": {
        "id": "32Fi9TMQDdaA"
      },
      "id": "32Fi9TMQDdaA"
    },
    {
      "cell_type": "markdown",
      "source": [
        "Untuk setiap bilangan bulat positif $n$, faktorial $n$ dilambangkan dengan $n!$, adalah hasil kali dari semua bilangan natural $n$ dari 1 hingga $n$."
      ],
      "metadata": {
        "id": "j3qoYu_vDmaI"
      },
      "id": "j3qoYu_vDmaI"
    },
    {
      "cell_type": "markdown",
      "source": [
        "\\begin{equation}\n",
        " n! = n×(n−1)×(n−2)×...×1 \\tag{3.5}\n",
        "\\end{equation}"
      ],
      "metadata": {
        "id": "Vt6fWpbnD09z"
      },
      "id": "Vt6fWpbnD09z"
    },
    {
      "cell_type": "code",
      "source": [
        "import sympy as sp\n",
        "\n",
        "# Menghitung faktorial n\n",
        "n = 5\n",
        "faktorial = sp.factorial(n)\n",
        "\n",
        "# Menampilkan langkah-langkah perhitungan n!\n",
        "persamaan = f\"{n}! = \" + \" × \".join(str(i) for i in range(n, 0, -1)) + f\" = {faktorial}\"\n",
        "\n",
        "print(f\"Langkah-langkah perhitungan {n}!:\")\n",
        "print(persamaan)\n",
        "print(f\"Hasil dari {n}! adalah:\", faktorial)"
      ],
      "metadata": {
        "colab": {
          "base_uri": "https://localhost:8080/"
        },
        "id": "ncZNLiqKEtWh",
        "outputId": "ecc6f210-a06b-4087-e9b3-86242b324464"
      },
      "id": "ncZNLiqKEtWh",
      "execution_count": null,
      "outputs": [
        {
          "output_type": "stream",
          "name": "stdout",
          "text": [
            "Langkah-langkah perhitungan 5!:\n",
            "5! = 5 × 4 × 3 × 2 × 1 = 120\n",
            "Hasil dari 5! adalah: 120\n"
          ]
        }
      ]
    },
    {
      "cell_type": "markdown",
      "source": [
        "Kemudian dari persamaan di atas, kita mendapatkan persamaan"
      ],
      "metadata": {
        "id": "XDs_gTvmUYcJ"
      },
      "id": "XDs_gTvmUYcJ"
    },
    {
      "cell_type": "markdown",
      "source": [
        "\\begin{equation}\n",
        "(n+1)! = n! \\times (n+1), \\quad (n = 1, 2, 3, \\ldots). \\tag{3.6}\n",
        "\\end{equation}"
      ],
      "metadata": {
        "id": "sIF3qiU8UzjI"
      },
      "id": "sIF3qiU8UzjI"
    },
    {
      "cell_type": "markdown",
      "source": [
        "Persamaan diatas masih berlaku untuk $n=0$. Dimana untuk $0!=1$"
      ],
      "metadata": {
        "id": "t0eCovBiVbL5"
      },
      "id": "t0eCovBiVbL5"
    },
    {
      "cell_type": "markdown",
      "source": [
        "Koefisien Binomial sering dituliskan sebagai"
      ],
      "metadata": {
        "id": "rJbqdS0TWOsN"
      },
      "id": "rJbqdS0TWOsN"
    },
    {
      "cell_type": "markdown",
      "source": [
        "\\begin{equation}\n",
        "\\binom{n}{r} \\equiv nC_r \\equiv \\frac{n!}{r!(n - r)!} \\tag{3.7}\n",
        "\\end{equation}"
      ],
      "metadata": {
        "id": "u0-BgjevEvVK"
      },
      "id": "u0-BgjevEvVK"
    },
    {
      "cell_type": "markdown",
      "source": [
        "di mana $n,r≥0$ adalah bilangan bulat. Untuk menuliskan persamaan diatas secara jelas, dapat dituliskan sebagai"
      ],
      "metadata": {
        "id": "SmO1gWKEitUq"
      },
      "id": "SmO1gWKEitUq"
    },
    {
      "cell_type": "markdown",
      "source": [
        "\\begin{equation}\n",
        "\\binom{n}{r} = \\frac{n(n-1)(n-2)\\cdots(n-r+1)}{1 \\times 2 \\times \\cdots \\times (r-1) \\times r}. \\tag{3.8}\n",
        "\\end{equation}"
      ],
      "metadata": {
        "id": "JR8WcDxFiuhF"
      },
      "id": "JR8WcDxFiuhF"
    },
    {
      "cell_type": "markdown",
      "source": [
        "Faktorial ini digunakan untuk mengetahui $\\binom{n}{r}$. Sebagai contoh : Hitunglah $\\binom{10}{5}$!"
      ],
      "metadata": {
        "id": "ajigWVlPiy_C"
      },
      "id": "ajigWVlPiy_C"
    },
    {
      "cell_type": "code",
      "source": [
        "import sympy as sp\n",
        "\n",
        "# Mendefinisikan n dan r\n",
        "n = 10\n",
        "r = 5\n",
        "\n",
        "# Menghitung koefisien binomial\n",
        "binomial_coefficient = sp.binomial(n, r)\n",
        "\n",
        "# Menampilkan hasil\n",
        "print(f\"Koefisien binomial (n={n}, r={r}) adalah: {binomial_coefficient}\")"
      ],
      "metadata": {
        "colab": {
          "base_uri": "https://localhost:8080/"
        },
        "id": "ayL2dcIqFyjz",
        "outputId": "4c9c3cb3-c6b1-4ec7-e541-e53e71c8e8b2"
      },
      "id": "ayL2dcIqFyjz",
      "execution_count": null,
      "outputs": [
        {
          "output_type": "stream",
          "name": "stdout",
          "text": [
            "Koefisien binomial (n=10, r=5) adalah: 252\n"
          ]
        }
      ]
    },
    {
      "cell_type": "markdown",
      "source": [
        "Terdapat beberapa kasus khusus ketika $r = 0$ atau $r = n$, ketika $\\binom{n}{0} = 1$ dan $\\binom{n}{n} = 1$"
      ],
      "metadata": {
        "id": "6tSjM5S8GDbs"
      },
      "id": "6tSjM5S8GDbs"
    },
    {
      "cell_type": "markdown",
      "source": [
        "##### **Segitiga Paskal**"
      ],
      "metadata": {
        "id": "5N7slovrjAGF"
      },
      "id": "5N7slovrjAGF"
    },
    {
      "cell_type": "markdown",
      "source": [
        "Bentuk umum dari Teorema Binomial, untuk setiap bilangan bulat positif $n$ dinyatakan sebagai"
      ],
      "metadata": {
        "id": "yw-xfdYMjEay"
      },
      "id": "yw-xfdYMjEay"
    },
    {
      "cell_type": "markdown",
      "source": [
        "\\begin{equation}\n",
        "(a + b)^n = \\binom{n}{0} a^n + \\binom{n}{1} a^{n-1} b + \\binom{n}{2} a^{n-2} b^2 + \\ldots + \\binom{n}{n-1} a b^{n-1} + \\binom{n}{n} b^n.\n",
        "\\end{equation}"
      ],
      "metadata": {
        "id": "EElhozQIjHCR"
      },
      "id": "EElhozQIjHCR"
    },
    {
      "cell_type": "markdown",
      "source": [
        "Sebagai contoh. Jika $n=5$, maka Teorema Binomial nya adalah"
      ],
      "metadata": {
        "id": "6v5nWP3djJvq"
      },
      "id": "6v5nWP3djJvq"
    },
    {
      "cell_type": "code",
      "source": [
        "import sympy as sp\n",
        "\n",
        "# Mendefinisikan variabel\n",
        "a, b = sp.symbols('a b')\n",
        "\n",
        "# Menghitung ekspresi (a + b)^5\n",
        "expression = (a + b)**5\n",
        "\n",
        "# Menyederhanakan ekspresi\n",
        "expanded_expression = sp.expand(expression)\n",
        "\n",
        "# Menampilkan hasil\n",
        "print(expanded_expression)"
      ],
      "metadata": {
        "id": "FYZookbujNpI",
        "outputId": "52375281-fc50-4099-aaef-a1e049ba35ab",
        "colab": {
          "base_uri": "https://localhost:8080/"
        }
      },
      "id": "FYZookbujNpI",
      "execution_count": null,
      "outputs": [
        {
          "output_type": "stream",
          "name": "stdout",
          "text": [
            "a**5 + 5*a**4*b + 10*a**3*b**2 + 10*a**2*b**3 + 5*a*b**4 + b**5\n"
          ]
        }
      ]
    },
    {
      "cell_type": "markdown",
      "source": [
        "Dapat dilihat bahwa terdapat simetri tertentu dalam koefisien. Sebenarnya, koefisien tersebut membentuk pola terkenal (Segitiga Paskal)."
      ],
      "metadata": {
        "id": "dt6sHF3kjQKg"
      },
      "id": "dt6sHF3kjQKg"
    },
    {
      "cell_type": "markdown",
      "source": [
        "\\begin{array}{ccccccc}\n",
        "          &           &           &           &           & 1 &           \\\\\n",
        "          &           &           &           & 1 &           & 1 \\\\\n",
        "          &           &           & 1 &           & 2 &           & 1 \\\\\n",
        "          &           & 1 &           & 3 &           & 3 &           & 1 \\\\\n",
        "          & 1 &           & 4 &           & 6 &           & 4 &           & 1 \\\\\n",
        "      1 &           & 5 &           & 10 &          & 10 &          & 5 &           & 1 \\\\\n",
        "\\end{array}"
      ],
      "metadata": {
        "id": "DmZ5qti3jS8A"
      },
      "id": "DmZ5qti3jS8A"
    },
    {
      "cell_type": "markdown",
      "source": [
        "Koefisien di sisi paling kiri dan kanan selalu 1, dan koefisien di baris berikutnya adalah jumlah dari dua koefisien di “bahu” pada baris sebelumnya."
      ],
      "metadata": {
        "id": "qOjXaIZkjXJZ"
      },
      "id": "qOjXaIZkjXJZ"
    },
    {
      "cell_type": "markdown",
      "source": [
        "##### **Deret**"
      ],
      "metadata": {
        "id": "BN-GdubpGQTF"
      },
      "id": "BN-GdubpGQTF"
    },
    {
      "cell_type": "markdown",
      "source": [
        "Secara matematis, deret adalah deretan angka yang mengikuti aturan tertentu, dan aturan tersebut bisa berupa rumus, hubungan rekursif (atau persamaan) antara suku-suku berturut-turut, atau hubungan deterministik atau induktif lainnya. Secara umum deret terbagi atas deret aritmetika dan deret geometri."
      ],
      "metadata": {
        "id": "snP3sWUeGW9M"
      },
      "id": "snP3sWUeGW9M"
    },
    {
      "cell_type": "markdown",
      "source": [
        "Deret aritmetika adalah deret di mana setiap suku setelah suku pertama diperoleh dengan menambahkan bilangan tetap (disebut beda) ke suku sebelumnya. Bentuk umumnya"
      ],
      "metadata": {
        "id": "mc_LAsQjGssV"
      },
      "id": "mc_LAsQjGssV"
    },
    {
      "cell_type": "markdown",
      "source": [
        "\\begin{equation}\n",
        "a_n = a + (n - 1)d \\tag{3.14}\n",
        "\\end{equation}"
      ],
      "metadata": {
        "id": "zZ8Z13AMHGTS"
      },
      "id": "zZ8Z13AMHGTS"
    },
    {
      "cell_type": "markdown",
      "source": [
        "Sebagai contoh : Diberikan deret aritmetika dengan suku pertama $a=3$ dan beda $d=2$. Hitunglah suku ke-10!"
      ],
      "metadata": {
        "id": "RX5w-oDCHUb_"
      },
      "id": "RX5w-oDCHUb_"
    },
    {
      "cell_type": "code",
      "source": [
        "# Mendefinisikan suku pertama dan beda\n",
        "a = 3  # suku pertama\n",
        "d = 2  # beda\n",
        "\n",
        "# Mendefinisikan n\n",
        "n = 10  # suku ke-10\n",
        "\n",
        "# Menghitung suku ke-n\n",
        "a_n = a + (n - 1) * d\n",
        "\n",
        "# Menampilkan hasil\n",
        "print(f\"Suku ke-{n} dari deret aritmetika adalah: {a_n}\")"
      ],
      "metadata": {
        "colab": {
          "base_uri": "https://localhost:8080/"
        },
        "id": "s9ejWetRHlzz",
        "outputId": "5e9bdacd-00f6-4927-c62c-f0e6d0a49db4"
      },
      "id": "s9ejWetRHlzz",
      "execution_count": null,
      "outputs": [
        {
          "output_type": "stream",
          "name": "stdout",
          "text": [
            "Suku ke-10 dari deret aritmetika adalah: 21\n"
          ]
        }
      ]
    },
    {
      "cell_type": "markdown",
      "source": [
        "Deret geometri adalah deret di mana setiap suku setelah suku pertama diperoleh dengan mengalikan suku sebelumnya dengan suatu bilangan tetap (disebut rasio). Bentuk umumnya"
      ],
      "metadata": {
        "id": "onbA1XkvHzS9"
      },
      "id": "onbA1XkvHzS9"
    },
    {
      "cell_type": "markdown",
      "source": [
        "\\begin{equation}\n",
        "a_n = ar^{n-1} \\tag{3.17}\n",
        "\\end{equation}"
      ],
      "metadata": {
        "id": "C8KNIqL2IBEE"
      },
      "id": "C8KNIqL2IBEE"
    },
    {
      "cell_type": "markdown",
      "source": [
        "Sebagai contoh : Diberikan deret geometri dengan suku pertama $a=2$ dan beda $r=3$. Hitunglah suku ke-5!"
      ],
      "metadata": {
        "id": "bYfYjxiqIEmk"
      },
      "id": "bYfYjxiqIEmk"
    },
    {
      "cell_type": "code",
      "source": [
        "# Mendefinisikan suku pertama dan rasio\n",
        "a = 2  # suku pertama\n",
        "r = 3  # rasio\n",
        "\n",
        "# Mendefinisikan n\n",
        "n = 5  # suku ke-5\n",
        "\n",
        "# Menghitung suku ke-n\n",
        "a_n = a * (r ** (n - 1))\n",
        "\n",
        "# Menampilkan hasil\n",
        "print(f\"Suku ke-{n} dari deret geometri adalah: {a_n}\")"
      ],
      "metadata": {
        "colab": {
          "base_uri": "https://localhost:8080/"
        },
        "id": "gYHojQvhIXRi",
        "outputId": "71f6ef09-e02f-40b6-f993-626b720ad65f"
      },
      "id": "gYHojQvhIXRi",
      "execution_count": null,
      "outputs": [
        {
          "output_type": "stream",
          "name": "stdout",
          "text": [
            "Suku ke-5 dari deret geometri adalah: 162\n"
          ]
        }
      ]
    },
    {
      "cell_type": "markdown",
      "source": [
        "Selain deret diatas, terdapat juga deret khusus yang disebut sebagai deret fibonacci. Deret Fibonacci adalah deret di mana setiap suku adalah jumlah dari dua suku sebelumnya. persamaan rekursifnya"
      ],
      "metadata": {
        "id": "tP_jgLZtIdIN"
      },
      "id": "tP_jgLZtIdIN"
    },
    {
      "cell_type": "markdown",
      "source": [
        "\\begin{equation}\n",
        "F_n = F_{n-1} + F_{n-2}\n",
        "\\end{equation}"
      ],
      "metadata": {
        "id": "txzOotShI4rn"
      },
      "id": "txzOotShI4rn"
    },
    {
      "cell_type": "markdown",
      "source": [
        "dengan $F_0=0$ dan $F_1=1$"
      ],
      "metadata": {
        "id": "ID1OuQKSI8yU"
      },
      "id": "ID1OuQKSI8yU"
    },
    {
      "cell_type": "markdown",
      "source": [
        "\\begin{equation}\n",
        "F_n = 0, 1, 1, 2, 3, 5, 8, 13, \\ldots\n",
        "\\end{equation}"
      ],
      "metadata": {
        "id": "iUiY0jybJHiy"
      },
      "id": "iUiY0jybJHiy"
    },
    {
      "cell_type": "markdown",
      "source": [
        "Setelah mengenal bentuk umum dari deret, perlu diketahui bagaimana cara untuk menghitung jumlah dari keseluruhan deret itu sendiri. Secara konvensional, kita menggunakan notasi $\\sum$, yang berasal dari huruf besar Yunani S, untuk menyatakan jumlah semua suku dalam suatu deret."
      ],
      "metadata": {
        "id": "xoFywyapU8x-"
      },
      "id": "xoFywyapU8x-"
    },
    {
      "cell_type": "markdown",
      "source": [
        "\\begin{equation}\n",
        "\\sum_{i=1}^{n} a_i = a_1 + a_2 + \\ldots + a_n, \\tag{3.30}\n",
        "\\end{equation}"
      ],
      "metadata": {
        "id": "q4tATiPgVukr"
      },
      "id": "q4tATiPgVukr"
    },
    {
      "cell_type": "markdown",
      "source": [
        "di mana $a_1$ menunjukkan suku umum, dan jumlah dimulai dari $i=1$ sampai dengan $i=n$. Untuk jumlah deret aritmetika dinyatakan dengan persamaan"
      ],
      "metadata": {
        "id": "p1I50KAtfM1o"
      },
      "id": "p1I50KAtfM1o"
    },
    {
      "cell_type": "markdown",
      "source": [
        "\\begin{equation}\n",
        "S = \\sum_{i=1}^{n} a_i = a_1 + a_2 + \\ldots + a_n = a + (a + d) + (a + 2d) + \\ldots + (a + (n-1)d)\n",
        "\\\\\n",
        "=a_1 + (a_1 + d) + (a_1 + 2d) + \\ldots + (a_n - d) + a_n. \\tag{3.31}\n",
        "\\end{equation}"
      ],
      "metadata": {
        "id": "xcMouS9OfQ7H"
      },
      "id": "xcMouS9OfQ7H"
    },
    {
      "cell_type": "markdown",
      "source": [
        "Persamaan ini juga dapat dituliskan dari belakang ke depan dengan $(a_1=a)$."
      ],
      "metadata": {
        "id": "V3hDaMFUfVEx"
      },
      "id": "V3hDaMFUfVEx"
    },
    {
      "cell_type": "markdown",
      "source": [
        "\\begin{equation}\n",
        "S = a_n + (a_n - d) + (a_n - 2d) + \\ldots + (a_n - (n - 2)d) + a\n",
        "\\\\\n",
        "= a_n + (a_n - d) + (a_n - 2d) + \\ldots + (a_1 + 2d) + (a_1 + d) + a_1. \\tag {3.32}\n",
        "\\end{equation}"
      ],
      "metadata": {
        "id": "JbcYPm1bfXxg"
      },
      "id": "JbcYPm1bfXxg"
    },
    {
      "cell_type": "markdown",
      "source": [
        "Sehingga dari kedua persamaan ini, didapatkan S yang dinyatakan sebagai"
      ],
      "metadata": {
        "id": "xUE67UQ6faTd"
      },
      "id": "xUE67UQ6faTd"
    },
    {
      "cell_type": "markdown",
      "source": [
        "\\begin{equation}\n",
        "2S = (a_1 + a_n) + (a_1 + d + a_n - d) + \\ldots + (a_n - d + a_1 + d) + (a_n + a_1)\n",
        "\\\\\n",
        "= (a_1 + a_n) + (a_1 + a_n) + \\ldots + (a_1 + a_n) = n(a_1 + a_n). \\tag{3.33}\n",
        "\\end{equation}"
      ],
      "metadata": {
        "id": "LvkcC8GYfdQR"
      },
      "id": "LvkcC8GYfdQR"
    },
    {
      "cell_type": "markdown",
      "source": [
        "Oleh karena itu, $S$ adalah"
      ],
      "metadata": {
        "id": "OTeBJMqMffHR"
      },
      "id": "OTeBJMqMffHR"
    },
    {
      "cell_type": "markdown",
      "source": [
        "\\begin{equation}\n",
        "S = \\frac{n}{2}(a_1 + a_n) \\tag{3.34}\n",
        "\\end{equation}"
      ],
      "metadata": {
        "id": "hqyeuCqcfhi-"
      },
      "id": "hqyeuCqcfhi-"
    },
    {
      "cell_type": "markdown",
      "source": [
        "Sebagai contoh : Hitunglah jumlah deret $1+2+3+...+99+100$!"
      ],
      "metadata": {
        "id": "EvWqFEsvfjnT"
      },
      "id": "EvWqFEsvfjnT"
    },
    {
      "cell_type": "code",
      "source": [
        "import sympy as sp\n",
        "\n",
        "# Mendefinisikan variabel\n",
        "n = 100\n",
        "i = sp.symbols('i')\n",
        "\n",
        "# Menghitung jumlah deret 1 + 2 + 3 + ... + n\n",
        "jumlah = sp.Sum(i, (i, 1, n)).doit()\n",
        "\n",
        "print(\"Jumlah deret 1 + 2 + 3 + ... + 100 adalah:\", jumlah)"
      ],
      "metadata": {
        "id": "VfpH8OWYfmpi"
      },
      "id": "VfpH8OWYfmpi",
      "execution_count": null,
      "outputs": []
    },
    {
      "cell_type": "markdown",
      "source": [
        "Untuk jumlah deret geometri dinyatakan dengan persamaan"
      ],
      "metadata": {
        "id": "xQjtj92Lfppr"
      },
      "id": "xQjtj92Lfppr"
    },
    {
      "cell_type": "markdown",
      "source": [
        "\\begin{equation}\n",
        "S = \\sum_{i=1}^{n} a_i = a + ar + ar^2 + \\ldots + ar^{n-2} + ar^{n-1} \\tag{3.36}\n",
        "\\end{equation}"
      ],
      "metadata": {
        "id": "nC5vt9vGfrzu"
      },
      "id": "nC5vt9vGfrzu"
    },
    {
      "cell_type": "markdown",
      "source": [
        "Mengalikan persamaan di atas dengan $r$ di kedua sisi, maka akan didapatkan"
      ],
      "metadata": {
        "id": "c_LeuK3EgSC_"
      },
      "id": "c_LeuK3EgSC_"
    },
    {
      "cell_type": "markdown",
      "source": [
        "\\begin{equation}\n",
        "rS = ar + ar^2 + ar^3 + \\ldots + ar^{n-2} + ar^{n-1} + ar^n \\tag{3.37}\n",
        "\\end{equation}"
      ],
      "metadata": {
        "id": "dtGRPV9mglA1"
      },
      "id": "dtGRPV9mglA1"
    },
    {
      "cell_type": "markdown",
      "source": [
        "Sehingga dari kedua persamaan ini, didapatkan"
      ],
      "metadata": {
        "id": "Ddk5G2hWg2I7"
      },
      "id": "Ddk5G2hWg2I7"
    },
    {
      "cell_type": "markdown",
      "source": [
        "\\begin{equation}\n",
        "rS - S = ar^n - a \\tag{3.38}\n",
        "\\end{equation}\n",
        "\n",
        "\\begin{equation}\n",
        "(r - 1)S = a(r^n - 1) \\tag{3.39}\n",
        "\\end{equation}"
      ],
      "metadata": {
        "id": "Y4EpZDLhllkp"
      },
      "id": "Y4EpZDLhllkp"
    },
    {
      "cell_type": "markdown",
      "source": [
        "Kemudian $S$ dinyatakan sebagai"
      ],
      "metadata": {
        "id": "ql0aPM3XlnzD"
      },
      "id": "ql0aPM3XlnzD"
    },
    {
      "cell_type": "markdown",
      "source": [
        "\\begin{equation}\n",
        "S = \\frac{a(r^n - 1)}{r - 1} = \\frac{a(1 - r^n)}{1 - r} \\tag{3.40}\n",
        "\\end{equation}"
      ],
      "metadata": {
        "id": "by_XD9kklqRV"
      },
      "id": "by_XD9kklqRV"
    },
    {
      "cell_type": "markdown",
      "source": [
        "Sebagai contoh : Hitunglah jumlah deret $1+\\frac{-2}{3}+(\\frac{-2}{3})^2+...+(\\frac{-2}{3})^{n-1}$, jika $n=10$!"
      ],
      "metadata": {
        "id": "PlKnDZcrlsbn"
      },
      "id": "PlKnDZcrlsbn"
    },
    {
      "cell_type": "code",
      "source": [
        "import sympy as sp\n",
        "\n",
        "# Mendefinisikan variabel\n",
        "a = 1  # suku pertama\n",
        "r = -2/3  # rasio\n",
        "n = 10  # jumlah suku\n",
        "\n",
        "# Menghitung jumlah deret geometri\n",
        "S_n = a * (1 - r**n) / (1 - r)\n",
        "\n",
        "# Menampilkan hasil\n",
        "print(\"Jumlah deret untuk n =\", n, \"adalah:\", S_n)"
      ],
      "metadata": {
        "colab": {
          "base_uri": "https://localhost:8080/"
        },
        "id": "eTIq0AvBmDbN",
        "outputId": "4d73eadf-d538-439c-ed48-7c8e96248ba4"
      },
      "id": "eTIq0AvBmDbN",
      "execution_count": null,
      "outputs": [
        {
          "output_type": "stream",
          "name": "stdout",
          "text": [
            "Jumlah deret untuk n = 10 adalah: 0.5895950820505005\n"
          ]
        }
      ]
    },
    {
      "cell_type": "markdown",
      "source": [
        "##### **Logaritma dan Eksponensial**"
      ],
      "metadata": {
        "id": "CgNL80n5JVaL"
      },
      "id": "CgNL80n5JVaL"
    },
    {
      "cell_type": "markdown",
      "source": [
        "Logaritma adalah operasi matematika yang merupakan invers dari operasi eksponensial. Logaritma dari suatu bilangan $x$ terhadap basis $b$ (dilambangkan sebagai $log_b(x)$) adalah eksponen $y$ yang harus diterapkan pada basis $b$ untuk mendapatkan $x$."
      ],
      "metadata": {
        "id": "-cMZVMXjJYc6"
      },
      "id": "-cMZVMXjJYc6"
    },
    {
      "cell_type": "markdown",
      "source": [
        "\\begin{equation}\n",
        "b^y = x, \\text{ maka } \\log_b(x) = y.\n",
        "\\end{equation}"
      ],
      "metadata": {
        "id": "CYA-2H6nKHNj"
      },
      "id": "CYA-2H6nKHNj"
    },
    {
      "cell_type": "markdown",
      "source": [
        "Sebagai contoh : Hitunglah $log_{10}=100$!"
      ],
      "metadata": {
        "id": "9pkRLs6ZKFAk"
      },
      "id": "9pkRLs6ZKFAk"
    },
    {
      "cell_type": "code",
      "source": [
        "import sympy as sp\n",
        "\n",
        "# Mendefinisikan bilangan\n",
        "x = 100\n",
        "\n",
        "# Menghitung logaritma basis 10\n",
        "log_result = sp.log(x, 10)\n",
        "\n",
        "# Menampilkan hasil\n",
        "print(f\"log_10({x}) = {log_result}\")"
      ],
      "metadata": {
        "colab": {
          "base_uri": "https://localhost:8080/"
        },
        "id": "OCxLggIBK-yV",
        "outputId": "e342cef5-906c-41d2-dab7-97c40c1b9322"
      },
      "id": "OCxLggIBK-yV",
      "execution_count": null,
      "outputs": [
        {
          "output_type": "stream",
          "name": "stdout",
          "text": [
            "log_10(100) = 2\n"
          ]
        }
      ]
    },
    {
      "cell_type": "markdown",
      "source": [
        "Fungsi eksponensial adalah fungsi matematika yang memiliki bentuk"
      ],
      "metadata": {
        "id": "abXSMLJYLDBF"
      },
      "id": "abXSMLJYLDBF"
    },
    {
      "cell_type": "markdown",
      "source": [
        "\\begin{equation}\n",
        "f(x)=b^x\n",
        "\\end{equation}"
      ],
      "metadata": {
        "id": "0cfoijtxLRV6"
      },
      "id": "0cfoijtxLRV6"
    },
    {
      "cell_type": "markdown",
      "source": [
        "di mana $b$ > 0 dan $x$ adalah eksponen.Fungsi ini menunjukkan bagaimana suatu jumlah berkembang seiring waktu."
      ],
      "metadata": {
        "id": "RUofgFFiLbgv"
      },
      "id": "RUofgFFiLbgv"
    },
    {
      "cell_type": "markdown",
      "source": [
        "Sebagai contoh : Jika $b=2$, tentukan nilai $x$ yang memenuhi $f(x)=32$!"
      ],
      "metadata": {
        "id": "47TyMfS9Llx1"
      },
      "id": "47TyMfS9Llx1"
    },
    {
      "cell_type": "code",
      "source": [
        "import sympy as sp\n",
        "\n",
        "# Mendefinisikan variabel\n",
        "x = sp.symbols('x')\n",
        "\n",
        "# Mendefinisikan persamaan\n",
        "equation = sp.Eq(2**x, 32)\n",
        "\n",
        "# Mencari solusi untuk x\n",
        "solution = sp.solve(equation, x)\n",
        "\n",
        "# Menampilkan hasil\n",
        "print(f\"Nilai x yang memenuhi adalah: {solution[0]}\")"
      ],
      "metadata": {
        "colab": {
          "base_uri": "https://localhost:8080/"
        },
        "id": "LFh8J-A2L7M1",
        "outputId": "d038a9e6-3c14-44a8-a177-9eb35726108b"
      },
      "id": "LFh8J-A2L7M1",
      "execution_count": null,
      "outputs": [
        {
          "output_type": "stream",
          "name": "stdout",
          "text": [
            "Nilai x yang memenuhi adalah: 5\n"
          ]
        }
      ]
    },
    {
      "cell_type": "markdown",
      "source": [
        "##### **Distribution of Near-Earth Objects**"
      ],
      "metadata": {
        "id": "gcVZrT7PX1nC"
      },
      "id": "gcVZrT7PX1nC"
    },
    {
      "cell_type": "markdown",
      "source": [
        "Menurut studi mendetail oleh Tim Definisi Ilmu Objek Dekat Bumi NASA, distribusi frekuensi ukuran asteroid dekat Bumi (NEA) kira-kira mematuhi hukum daya."
      ],
      "metadata": {
        "id": "7W8uKlGKX-Kk"
      },
      "id": "7W8uKlGKX-Kk"
    },
    {
      "cell_type": "markdown",
      "source": [
        "\\begin{equation}\n",
        "N > D \\approx 1148 D^{-2.354}\n",
        "\\end{equation}"
      ],
      "metadata": {
        "id": "dTCliKJWYKgI"
      },
      "id": "dTCliKJWYKgI"
    },
    {
      "cell_type": "markdown",
      "source": [
        "di mana $N_{>D}$ adalah jumlah kumulatif atau jumlah asteroid dengan diameter lebih besar dari $D$ dalam satuan km. Ini berarti ada sekitar $1148 \\times 2^{-2.354} \\approx 224$ NEA dengan diameter lebih dari 2 km, sementara ada sekitar $1148 \\times (0.1)^{-2.354} \\approx 260.000$ NEA yang lebih besar dari 100 m."
      ],
      "metadata": {
        "id": "_hJogw2qYbk_"
      },
      "id": "_hJogw2qYbk_"
    },
    {
      "cell_type": "markdown",
      "source": [
        "Studi lain oleh Brown et al. (2002) menunjukkan bahwa jumlah kumulatif, $N$, dari objek yang bertabrakan dengan Bumi setiap tahun dengan energi, $E$, dalam kiloton atau lebih besar (1 kiloton TNT sekitar 4,18 × 10² J) mematuhi hubungan hukum daya."
      ],
      "metadata": {
        "id": "L4LL4uqmZKw1"
      },
      "id": "L4LL4uqmZKw1"
    },
    {
      "cell_type": "markdown",
      "source": [
        "\\begin{equation}\n",
        "\\log N_{> E} = 0.5677 - 0.90 \\log E\n",
        "\\\\\n",
        "or\n",
        "\\\\\n",
        "N_{> E} = 10^{0.5677} E^{-0.90} \\approx 3.7 E^{-0.9}\n",
        "\\end{equation}"
      ],
      "metadata": {
        "id": "qr6MEN24Zhlb"
      },
      "id": "qr6MEN24Zhlb"
    },
    {
      "cell_type": "markdown",
      "source": [
        "Sebagai contoh, untuk $E = 5$ kton, kita memiliki $N_{> 5} \\approx 3.7 \\times 5^{-0.9} \\approx 1$ atau sekitar sekali setahun. Untuk $E = 10000$ kton = 10 Megaton (dengan energi ledakan Tunguska), kita memiliki $N_{> 10000} \\approx 3.7 \\times 10000^{-0.9} \\approx 0.00093$ per tahun, atau sekitar satu dalam setiap $\\frac{1}{0.00093} \\approx 1000$ tahun."
      ],
      "metadata": {
        "id": "1ERvO3M0aNJD"
      },
      "id": "1ERvO3M0aNJD"
    },
    {
      "cell_type": "markdown",
      "source": [
        "Persamaan di atas setara dengan persamaan berikut dalam istilah diameter $D$ dalam meter dari benda yang bertabrakan."
      ],
      "metadata": {
        "id": "HyAmVnKbak6Y"
      },
      "id": "HyAmVnKbak6Y"
    },
    {
      "cell_type": "markdown",
      "source": [
        "\\begin{equation}\n",
        "\\log N_{> D} = 1.568 - 2.70 \\log D\n",
        "\\\\\n",
        "or\n",
        "\\\\\n",
        "N_{> D} = 10^{1.568} D^{-2.70} \\approx 36.98 D^{-2.70}\n",
        "\\end{equation}"
      ],
      "metadata": {
        "id": "GuAzevZFavyJ"
      },
      "id": "GuAzevZFavyJ"
    },
    {
      "cell_type": "markdown",
      "source": [
        "Ini berarti jumlah total objek dengan diameter lebih besar dari 2 m yang bertabrakan dengan Bumi adalah sekitar 6 per tahun. Jika $D = 0.5$ m, kita memiliki $N_{> 0.5} \\approx 36.98 \\times 0.5^{-2.7} \\approx 240$ per tahun, atau 20 per bulan. NEA kecil ini biasanya akan pecah dan meledak di atmosfer atas tanpa menyebabkan kerusakan yang berarti. Namun, di sisi lain, untuk $D = 100$ m, kita memiliki $N_{> 100} \\approx 36.98 \\times 100^{-2.7} \\approx 0.00015$ per tahun, yang setara dengan sekitar satu dalam setiap $\\frac{1}{0.00015} \\approx 6700$ tahun."
      ],
      "metadata": {
        "id": "5ChjQz3wbEFS"
      },
      "id": "5ChjQz3wbEFS"
    },
    {
      "cell_type": "markdown",
      "id": "c9028262",
      "metadata": {
        "id": "c9028262"
      },
      "source": [
        "### **TRIGONOMETRI**"
      ]
    },
    {
      "cell_type": "markdown",
      "source": [
        "#### **Trigonometri Bidang datar**"
      ],
      "metadata": {
        "id": "JhudRIA46EQC"
      },
      "id": "JhudRIA46EQC"
    },
    {
      "cell_type": "markdown",
      "source": [
        "##### **Fungsi Trigonometri**"
      ],
      "metadata": {
        "id": "eddLmSxj8ggb"
      },
      "id": "eddLmSxj8ggb"
    },
    {
      "cell_type": "markdown",
      "id": "ca3c2c06",
      "metadata": {
        "id": "ca3c2c06"
      },
      "source": [
        "Sebuah sudut diukur berlawanan arah jarum jam dari sumbu $x$, dan sudut seperti ini dianggap positif. Sedangkan sudut negatif diukur searah jarum jam dari sumbu $x$. Sudut biasanya dinyatakan dalam derajat ($^\\circ$) atau radian. Sebuah lingkaran penuh dibagi menjadi 360$^\\circ$, dan sudut siku-siku adalah $90^\\circ$."
      ]
    },
    {
      "cell_type": "markdown",
      "source": [
        "<center>\n",
        "\n",
        "![definisi radian](https://drive.google.com/uc?export=view&id=1MAkX9Db9_0DnKafSBaLBPqqumBvYKVqE)\n",
        "\n",
        "**Gambar** Definisi Radian\n"
      ],
      "metadata": {
        "id": "-hXE4vUsHy42"
      },
      "id": "-hXE4vUsHy42"
    },
    {
      "cell_type": "markdown",
      "source": [
        "Satu radian didefinisikan sebagai sudut yang panjang busurnya sama dengan jari-jari lingkaran. Karena panjang busur seluruh lingkaran atau kelilingnya adalah $2\\pi r$, maka:\n",
        "\n",
        "$2 \\pi \\text{ rad} = 360^\\circ \\tag{4.1}$\n",
        "\n",
        "$1 \\text{ rad} = \\frac{360 ^\\circ}{2 \\text{x} 3.14159} = 57.296 ^\\circ \\tag{4.2}$\n",
        "\n",
        "$ 1 ^\\circ = \\frac{2\\pi}{360} = 0.017453 \\text{ rad} \\tag{4.3}$"
      ],
      "metadata": {
        "id": "u3s-0KEDH0da"
      },
      "id": "u3s-0KEDH0da"
    },
    {
      "cell_type": "markdown",
      "source": [
        "<center>\n",
        "\n",
        "![Grafik Fungsi Sin dan Cos](https://drive.google.com/uc?export=view&id=1Ph3LKBxyuwb4up5L7VoDg8A9HEdMM5gk)\n",
        "\n",
        "**Gambar** Grafik Fungsi Sinus dan Cosinus"
      ],
      "metadata": {
        "id": "ApkHYcz1Hi9Q"
      },
      "id": "ApkHYcz1Hi9Q"
    },
    {
      "cell_type": "markdown",
      "id": "91b5c095",
      "metadata": {
        "id": "91b5c095"
      },
      "source": [
        "Fungsi sinus dan cosinus untuk sudut $\\theta$ didefinisikan sebagai:\n",
        "\n",
        "$ \\sin \\theta = \\frac{y}{r}$\n",
        "\n",
        "$\\cos \\theta=\\frac{x}{r}$"
      ]
    },
    {
      "cell_type": "markdown",
      "source": [
        "Fungsi Tangen didefinisikan sebagai:\n",
        "\n",
        "$\\tan \\theta = \\frac{\\sin \\theta}{\\cos\\theta}$"
      ],
      "metadata": {
        "id": "xcoMhb0PM8hz"
      },
      "id": "xcoMhb0PM8hz"
    },
    {
      "cell_type": "markdown",
      "source": [
        "Fungsi trigonometri tambahan:\n",
        "\n",
        "$\\cot\\theta = \\frac{1}{\\tan \\theta}$\n",
        "\n",
        "$\\sec \\theta = \\frac{1}{\\cos\\theta}$\n",
        "\n",
        "$\\csc \\theta = \\frac{1}{\\sin\\theta}$"
      ],
      "metadata": {
        "id": "qGW5eXuhN_7j"
      },
      "id": "qGW5eXuhN_7j"
    },
    {
      "cell_type": "markdown",
      "source": [
        "Identitas Penting:\n",
        "\n",
        "$\\sin^2 \\theta + \\cos^2 \\theta = 1$\n",
        "\n",
        "$1 + \\tan^2 \\theta = \\sec^2 \\theta$\n"
      ],
      "metadata": {
        "id": "firkUSBpOnDi"
      },
      "id": "firkUSBpOnDi"
    },
    {
      "cell_type": "markdown",
      "id": "41079eb6",
      "metadata": {
        "id": "41079eb6"
      },
      "source": [
        "##### **Aturan Sinus**"
      ]
    },
    {
      "cell_type": "markdown",
      "source": [
        "<center>\n",
        "\n",
        "![Grafik Fungsi Sin dan Cos](https://drive.google.com/uc?export=view&id=1ufXzxvND54SCBkJy9fOz-J5MLjGTQloi)\n",
        "\n",
        "**Gambar** Turunan Aturan Sinus"
      ],
      "metadata": {
        "id": "NCGb3qI6QT6I"
      },
      "id": "NCGb3qI6QT6I"
    },
    {
      "cell_type": "markdown",
      "source": [
        "$\\sin A = \\frac{h}{b} \\Rightarrow h = b \\sin A$\n",
        "\n",
        "$\\sin B = \\frac{h}{b} \\Rightarrow h = b \\sin B$\n",
        "\n",
        "maka:\n",
        "\n",
        "$b \\sin A = a \\sin B \\Rightarrow  \\frac{a}{\\text{sin}\\ A} = \\frac{b}{\\text{sin}\\ B} \\tag{4.42}$\n",
        "\n",
        "Dengan menerapkan argumen yang sama pada tinggi tegak lurus lainnya, kita dapat memperoleh:\n",
        "\n",
        "$\\frac{b}{\\text{sin}\\ B} = \\frac{c}{\\text{sin}\\ C} \\tag{4.43}$\n",
        "\n",
        "Sehingga aturan sinus:\n",
        "\n",
        "$ \\frac{a}{\\text{sin}\\ A} = \\frac{b}{\\text{sin}\\ B}= \\frac{c}{\\text{sin}\\ C} \\tag{4.44}$"
      ],
      "metadata": {
        "id": "bTUGz0LtQiMM"
      },
      "id": "bTUGz0LtQiMM"
    },
    {
      "cell_type": "markdown",
      "source": [
        "##### **Aturan Kosinus**"
      ],
      "metadata": {
        "id": "ZPYNm6ZN54ku"
      },
      "id": "ZPYNm6ZN54ku"
    },
    {
      "cell_type": "markdown",
      "source": [
        "Untuk menurunkan aturan kosinus, kita merujuk pada segitiga yang sama seperti saat menurunkan aturan sinus."
      ],
      "metadata": {
        "id": "MbZ2uHhU5wu5"
      },
      "id": "MbZ2uHhU5wu5"
    },
    {
      "cell_type": "markdown",
      "source": [
        "<center>\n",
        "\n",
        "![Turunan Aturan Cosinus](https://drive.google.com/uc?export=view&id=1byiJrK79HYUb4OIe-WFb6wFEZ-1X1R-_)\n",
        "\n",
        "**Gambar** Turunan Aturan Cosinus"
      ],
      "metadata": {
        "id": "Y0RNNMie6892"
      },
      "id": "Y0RNNMie6892"
    },
    {
      "cell_type": "markdown",
      "source": [
        "$BD = AB - AD \\Rightarrow BD = c- b \\cos A$\n",
        "\n",
        "Pada segitiga BDC, berlaku teorema pythagoras. Maka:\n",
        "\n",
        "$BC^2=BD^2 + CD^2$\n",
        "\n",
        "$a^2 = (c-b \\cos A)^2 + (b \\sin A)^2$\n",
        "\n",
        "$a^2= c^2 - b^2 \\cos^2 A + b^2 \\sin^2 2bc \\cos A  $\n",
        "\n",
        "$a^2= c^2 - 2bc \\cos A + b^2 (\\cos^2 A + \\sin^2 A) \\tag{4.45}$\n",
        "\n",
        "Dengan menggunakan identitas $\\sin^2 A + \\cos^2 A = 1$, akhirnya kita memperoleh aturan kosinus:\n",
        "\n",
        "$a^2 = b^2 + c^2 - 2bc \\cos A \\tag{4.46}$\n",
        "\n",
        "Demikian pula, dengan melakukan argumen yang sama, kita memperoleh:\n",
        "\n",
        "$b^2 = a^2 + c^2 - 2ac \\cos B, c^2 = a^2 + b^2 - 2ab \\cos C \\tag{4.47}$\n",
        "\n",
        "Dengan menyusun kembali aturan kosinus, kita bisa memperoleh rumus untuk menentukan sudut-sudut segitiga setelah panjang ketiga sisi diketahui. Kita peroleh:\n",
        "\n",
        "$\\cos A = \\frac{b^2 + c^2 - a^2}{2bc}, \\cos B = \\frac{c^2 + a^2 - b^2}{2ac} \\tag{4.48}$\n",
        "\n",
        "dan\n",
        "\n",
        "$\\cos C = \\frac{a^2 + b^2 - c^2}{2ab} \\tag{4.49}$"
      ],
      "metadata": {
        "id": "pDosMHWP6Ikv"
      },
      "id": "pDosMHWP6Ikv"
    },
    {
      "cell_type": "markdown",
      "source": [
        "#### **Trigonometri Bola**"
      ],
      "metadata": {
        "id": "QlUOElrt8SJ0"
      },
      "id": "QlUOElrt8SJ0"
    },
    {
      "cell_type": "markdown",
      "source": [
        "Segitiga bola terbentuk dari perpotongan tiga lingkaran besar pada permukaan bola. Sisi-sisinya berupa busur antara dua titik, dan jumlah sudut segitiga bola selalu lebih besar dari 180°:\n",
        "\n",
        "$$\n",
        "A + B + C > 180^\\circ\n",
        "$$\n",
        "\n",
        "Luas segitiga bola dirumuskan sebagai:\n",
        "\n",
        "$$\n",
        "S = \\frac{\\pi R^2}{180^\\circ}(A + B + C - 180^\\circ) \\tag{4.50}\n",
        "$$\n",
        "\n",
        "dengan $R$ sebagai jari-jari bola, dan $A, B, C$ adalah sudut-sudut segitiga. Dari pusat bola, sisi-sisi segitiga ini membentuk sudut trihedral, yaitu $\\alpha$, $\\beta$, $\\gamma$ yang merupakan sudut antara dua radius bola yang mengarah ke masing-masing titik sudut segitiga.\n"
      ],
      "metadata": {
        "id": "K-MisbIz8jGI"
      },
      "id": "K-MisbIz8jGI"
    },
    {
      "cell_type": "markdown",
      "source": [
        "<center>\n",
        "\n",
        "![Segitiga Bola dan Sudutnya](https://drive.google.com/uc?export=view&id=1gHuLQS-uib0d91CHj45i4d8tAhYj2gwq)\n",
        "\n",
        "**Gambar** Segitiga Bola dan Sudutnya\n"
      ],
      "metadata": {
        "id": "otfXBGaSwlhs"
      },
      "id": "otfXBGaSwlhs"
    },
    {
      "cell_type": "markdown",
      "source": [
        "Rumus-rumus dasar trigonometri bola sebagai berikut.\n",
        "\n",
        "Aturan sinus:\n",
        "\n",
        "$$\n",
        "\\frac{\\sin a}{\\sin A} = \\frac{\\sin b}{\\sin B} = \\frac{\\sin c}{\\sin C} \\tag{4.51}\n",
        "$$\n",
        "\n",
        "Hukum kosinus untuk sisi:\n",
        "\n",
        "$$\n",
        "\\cos a = \\cos b \\cos c + \\sin b \\sin c \\cos A\n",
        "$$\n",
        "\n",
        "Hukum kosinus untuk sudut:\n",
        "\n",
        "$$\n",
        "\\cos A = -\\cos B \\cos C + \\sin B \\sin C \\cos a\n",
        "$$\n",
        "\n",
        "Hubungan antara sudut trihedral:\n",
        "\n",
        "$$\n",
        "\\cos \\alpha = \\frac{\\cos a - \\cos b \\cos c}{\\sin b \\sin c}\n",
        "$$\n",
        "\n",
        "$$\n",
        "\\cos \\beta = \\frac{\\cos b - \\cos a \\cos c}{\\sin a \\sin c}\n",
        "$$\n",
        "\n",
        "$$\n",
        "\\cos \\gamma = \\frac{\\cos c - \\cos a \\cos b}{\\sin a \\sin b}\n",
        "$$"
      ],
      "metadata": {
        "id": "lyxQ7fBCwZgJ"
      },
      "id": "lyxQ7fBCwZgJ"
    },
    {
      "cell_type": "markdown",
      "source": [
        "#### **Aplikasi: Waktu Tempuh Gelombang Seismik**"
      ],
      "metadata": {
        "id": "Vi4DTCO5za3l"
      },
      "id": "Vi4DTCO5za3l"
    },
    {
      "cell_type": "markdown",
      "source": [
        "Gelombang seismik P dan S membias saat melewati batas antar lapisan batuan, mengikuti hukum Snell, yang dinyatakan sebagai:\n",
        "\n",
        "$$\n",
        "\\frac{\\sin \\theta_i}{v_{P1}} = \\frac{\\sin \\theta_{2}}{v_{P2}}\n",
        "$$\n",
        "\n",
        "Sudut kritis terjadi ketika gelombang merambat sepanjang batas antarmuka, dengan persamaan:\n",
        "\n",
        "$$\n",
        "\\sin \\theta_i = \\frac{v_{P1}}{v_{P2}}\n",
        "$$"
      ],
      "metadata": {
        "id": "IxOp9Ms8vEJf"
      },
      "id": "IxOp9Ms8vEJf"
    },
    {
      "cell_type": "markdown",
      "source": [
        "<center>\n",
        "\n",
        "![Hukum Snell](https://drive.google.com/uc?export=view&id=1cT4WDC5M3VkkDXdWfketwZ_I2EnRHzwB)\n",
        "\n",
        "**Gambar** Hukum Snell"
      ],
      "metadata": {
        "id": "AjmdOU2rzhUs"
      },
      "id": "AjmdOU2rzhUs"
    },
    {
      "cell_type": "markdown",
      "source": [
        "<center>\n",
        "\n",
        "![Model Dua Lapisan](https://drive.google.com/uc?export=view&id=1I_T5o0nGT_SAYiVh50h8lUes-jbFcZNb)\n",
        "\n",
        "**Gambar** Model Dua Lapisan"
      ],
      "metadata": {
        "id": "V_LgaECE1SzY"
      },
      "id": "V_LgaECE1SzY"
    },
    {
      "cell_type": "markdown",
      "source": [
        "Untuk model dua lapisan sederhana, jika kedalaman antarmuka adalah $h$, kecepatan gelombang adalah $v$, dan offset antara sumber dan penerima adalah $x$, maka waktu tempuh vertikal adalah:\n",
        "\n",
        "$$\n",
        "t_0 = \\frac{2h}{v}\n",
        "$$\n",
        "\n",
        "Pada gambar terlihat segitiga dengan sisi vertikal h (kedalaman), sisi horizontal $\\frac{x}{2}$ dan sisi miring $\\sqrt{h^2 + (\\frac{x}{2})^2}$.\n",
        "\n",
        "Karena jalur bolak balik, maka total lintasan($S$) menjadi:\n",
        "\n",
        "$S = 2 \\text{ x}  \\sqrt{ h^2 + (\\frac{x}{2})^2} ={\\sqrt{4h^2 + x^2}} $\n",
        "\n",
        "Waktu tempuh total sebagai fungsi dari $x$ dinyatakan sebagai:\n",
        "\n",
        "$$\n",
        "T(x) = \\frac{\\sqrt{4h^2 + x^2}}{v}\n",
        "$$\n",
        "\n",
        "$$\n",
        "T^2(x) = \\left( \\frac{\\sqrt{4h^2 + x^2}}{v} \\right)^2\n",
        "$$\n",
        "\n",
        "$$\n",
        "T^2(x) = \\frac{4h^2 + x^2}{v^2}\n",
        "$$\n",
        "\n",
        "$$\n",
        "T^2(x) = \\frac{4h^2}{v^2} + \\frac{x^2}{v^2}\n",
        "$$\n",
        "\n",
        "$$\n",
        "t_0 = \\frac{2h}{v}\n",
        "$$\n",
        "\n",
        "$$\n",
        "t_0^2 = \\frac{4h^2}{v^2}\n",
        "$$\n",
        "\n",
        "$$\n",
        "T^2 = t_0^2 + \\frac{x^2}{v^2} \\tag{4.62}\n",
        "$$\n",
        "\n",
        "Selisih antara waktu tempuh aktual dan vertikal disebut Normal Moveout (NMO), dengan rumus:\n",
        "\n",
        "$$\n",
        "\\Delta t = T - t_0 = \\sqrt{t_0^2 + \\frac{x^2}{v^2}} - t_0 \\tag{4.63}\n",
        "$$"
      ],
      "metadata": {
        "id": "NBKPcsrDyRVw"
      },
      "id": "NBKPcsrDyRVw"
    },
    {
      "cell_type": "markdown",
      "id": "c9029b8f",
      "metadata": {
        "id": "c9029b8f"
      },
      "source": [
        "#### **Contoh Soal**"
      ]
    },
    {
      "cell_type": "markdown",
      "id": "6996b6b1",
      "metadata": {
        "id": "6996b6b1"
      },
      "source": [
        "Untuk segitiga siku-siku di bawah ini, tentukan:\n",
        "\n",
        "![definisi radian](https://drive.google.com/uc?export=view&id=1JucWv6LK8Zw7OrHiiDc_AUJo9265l4wL)\n",
        "\n",
        "\n",
        "\n",
        "(a) $\\text{sin}\\ \\alpha$\n",
        "\n",
        "(b) $\\text{cos}\\ \\theta$\n",
        "\n",
        "(c) $\\text{tan}\\ \\theta$"
      ]
    },
    {
      "cell_type": "code",
      "execution_count": null,
      "id": "424566bf",
      "metadata": {
        "id": "424566bf",
        "outputId": "fb7ac150-5d9a-4f09-f863-e70ea19b02a9",
        "colab": {
          "base_uri": "https://localhost:8080/"
        }
      },
      "outputs": [
        {
          "output_type": "stream",
          "name": "stdout",
          "text": [
            "sin alpha = 15/17\n",
            "cos theta = 15/17\n",
            "tan theta = 8/15\n"
          ]
        }
      ],
      "source": [
        "from sympy import *\n",
        "\n",
        "sisi_depan_alpha = Rational(15)\n",
        "sisi_depan_theta = Rational(8)\n",
        "sisi_samping_theta = Rational(15)\n",
        "sisi_miring = Rational(17)\n",
        "\n",
        "# (a) sin(alpha)\n",
        "sin_alpha = sisi_depan_alpha / sisi_miring\n",
        "\n",
        "# (b) cos(theta)\n",
        "cos_theta = sisi_samping_theta / sisi_miring\n",
        "\n",
        "# (c) tan(theta)\n",
        "tan_theta = sisi_depan_theta / sisi_samping_theta\n",
        "\n",
        "# Tampilkan hasil\n",
        "print(f\"sin alpha = {sin_alpha}\")\n",
        "print(f\"cos theta = {cos_theta}\")\n",
        "print(f\"tan theta = {tan_theta}\")"
      ]
    },
    {
      "cell_type": "markdown",
      "id": "ef8802ba",
      "metadata": {
        "id": "ef8802ba"
      },
      "source": [
        "Gunakan aturan sinus dan cosinus untuk menyelesaikan segitiga PQR dan hitung luasnya. diketahui:\n",
        "\n",
        "$q = 29\\ \\text{ cm}, r = 16\\ \\text{ cm}, P = 27 ^\\circ$"
      ]
    },
    {
      "cell_type": "code",
      "execution_count": null,
      "id": "31a7aa07",
      "metadata": {
        "id": "31a7aa07",
        "outputId": "7a435dea-ee99-4914-87da-06d9aefa4c91"
      },
      "outputs": [
        {
          "name": "stdout",
          "output_type": "stream",
          "text": [
            "Sisi p ≈ 13.20 cm\n",
            "Sudut Q ≈ 47.34 derajat\n",
            "Sudut R ≈ 78.66 derajat\n",
            "Luas segitiga ≈ 77.67 cm²\n"
          ]
        }
      ],
      "source": [
        "from sympy import *\n",
        "\n",
        "# Diketahui\n",
        "q = 12     # cm\n",
        "r = 16     # cm\n",
        "P = 54\n",
        "P_rad = rad(P)  # konversi ke radian\n",
        "\n",
        "# Hitung sisi p (aturan cosinus)\n",
        "p = sqrt(q**2 + r**2 - 2*q*r*cos(P_rad))\n",
        "\n",
        "# Langkah 2: Hitung sudut Q (aturan sinus)\n",
        "Q = asin(q * sin(P_rad) / p)\n",
        "\n",
        "# Langkah 3: Hitung sudut R\n",
        "R = pi - P_rad - Q\n",
        "\n",
        "# Langkah 4: Hitung luas segitiga\n",
        "luas = Rational(1, 2) * q * r * sin(P_rad)\n",
        "\n",
        "# Tampilkan hasil\n",
        "print(\"Sisi p ≈\", N(p, 4), \"cm\")\n",
        "print(\"Sudut Q ≈\", N(deg(Q), 4), \"derajat\")\n",
        "print(\"Sudut R ≈\", N(deg(R), 4), \"derajat\")\n",
        "print(\"Luas segitiga ≈\", N(luas, 4), \"cm²\")"
      ]
    },
    {
      "cell_type": "markdown",
      "source": [
        "### **BILANGAN KOMPLEKS**"
      ],
      "metadata": {
        "id": "nR1gGhyhgCrW"
      },
      "id": "nR1gGhyhgCrW"
    },
    {
      "cell_type": "markdown",
      "source": [
        "### **Pendahuluan**\n",
        "Bilangan imajiner pertama kali diperkenalkan oleh matematikawan Italia, Rafael Bombelli, pada abad ke-16. Meskipun pada awalnya dianggap hanya sebagai \"angka khayal\" tanpa aplikasi praktis, bilangan imajiner kini memiliki aplikasi nyata di berbagai bidang seperti teknik, fisika, dan pengolahan sinyal.\n",
        "\n",
        "Bilangan kompleks adalah bilangan yang terdiri dari dua bagian, yaitu bagian **real** dan bagian **imajiner**. Secara umum, bilangan kompleks dituliskan dalam bentuk:\n",
        "\n",
        "$$\n",
        "z = a + bi,\n",
        "$$\n",
        "\n",
        "di mana:\n",
        "- $a$ adalah bagian real,\n",
        "- $b$ adalah koefisien imajiner, dan\n",
        "- $i$ adalah unit imajiner dengan sifat $i^2 = -1$.\n",
        "\n",
        "Bilangan kompleks penting karena memungkinkan kita untuk menyelesaikan persamaan yang tidak memiliki penyelesaian dalam ruang bilangan real, seperti persamaan $[x^2 + 1 = 0].$\n",
        "\n",
        "### **Imaginary Numbers**\n",
        "\n",
        "Bilangan imajiner adalah konsep fundamental dalam bilangan kompleks yang memperluas pengertian kita tentang bilangan di luar bilangan real. Bilangan ini melibatkan unit imajiner yang dilambangkan dengan \\(i\\), yang memiliki sifat unik:\n",
        "$$\n",
        "i=\\sqrt{-1}, i^2 = (\\sqrt{-1})^2 = -1. \\tag{5.1}\n",
        "$$\n",
        "\n",
        "Hal ini memungkinkan kita untuk menangani akar bilangan negatif. Sebagai contoh:\n",
        "$$\n",
        "\\sqrt{-4} = \\sqrt{4} \\cdot \\sqrt{-1} = 2i.\n",
        "$$\n",
        "\n",
        "Bilangan imajiner murni adalah bilangan yang tidak memiliki bagian real dan hanya berupa kelipatan dari \\(i\\). Secara umum, bilangan imajiner dituliskan sebagai:\n",
        "$$\n",
        "bi,\n",
        "$$\n",
        "di mana \\(b\\) adalah bilangan real dan \\(i\\) adalah unit imajiner.\n",
        "\n",
        "#### Hubungan dengan Bilangan Kompleks\n",
        "\n",
        "Bilangan imajiner adalah komponen kunci dari bilangan kompleks. Setiap bilangan kompleks \\(z = a + bi\\) terdiri dari:\n",
        "1. Bagian **real**: \\(a\\),\n",
        "2. Bagian **imajiner**: \\(bi\\).\n",
        "\n",
        "Sebagai contoh:\n",
        "- Bilangan \\(z = 3 + 4i\\) memiliki bagian real \\(a = 3\\) dan bagian imajiner \\(b = 4\\).\n",
        "- Jika bilangan \\(z = 0 + 5i\\), maka ini adalah bilangan imajiner murni dengan \\(b = 5\\).\n",
        "#### Contoh Bilangan imajiner\n",
        "\n",
        "Bilangan imajiner \\( i \\) mengikuti aturan yang sama seperti fungsi matematika yang didefinisikan pada sistem bilangan real. Sebagai contoh, kita dapat menghitung hal-hal berikut:\n",
        "\n",
        "$$\n",
        "i^3 = i^2 i = (-1)i = -i,\n",
        "$$\n",
        "\n",
        "$$\n",
        "i^4 = (i^2)^2 = (-1)^2 = 1,\n",
        "$$\n",
        "\n",
        "$$\n",
        "i^5 = i^4 i = i,\n",
        "$$\n",
        "\n",
        "sehingga\n",
        "\n",
        "$$\n",
        "i^{50} = i^{4 \\times 12 + 2} = (i^4)^{12} \\times i^2 = 1^{12} \\times (-1) = -1,\n",
        "$$\n",
        "\n",
        "dan\n",
        "\n",
        "$$\n",
        "i^{101} = i^{4 \\times 25 + 1} = (i^4)^{25} \\times i = 1^{25} \\times i = i.\n",
        "$$\n",
        "\n",
        "Sehingga, cara terbaik untuk memperkirakan ekspresi seperti ini adalah dengan menulis eksponen dalam kelipatan 4 (sedekat mungkin). Hanya menggunakan eksponen ganjil atau genap saja tidak cukup, dan seringkali menghasilkan jawaban yang salah."
      ],
      "metadata": {
        "id": "QTXu2nCcgDPR"
      },
      "id": "QTXu2nCcgDPR"
    },
    {
      "cell_type": "markdown",
      "source": [
        "### **Polar Form**"
      ],
      "metadata": {
        "id": "Qa8evsSacjsW"
      },
      "id": "Qa8evsSacjsW"
    },
    {
      "cell_type": "markdown",
      "source": [
        "\n",
        "<center>\n",
        "\n",
        "![refleksi dan konjugat kompleks](https://drive.google.com/uc?export=view&id=1VpqKE_Xly2VecvIO7R_mqZsEsGhnMdpW)\n",
        "\n",
        "**Gambar** Refleksi dan Konjugat Kompleks"
      ],
      "metadata": {
        "id": "B-6BmD90cVSL"
      },
      "id": "B-6BmD90cVSL"
    },
    {
      "cell_type": "markdown",
      "source": [
        "Pada Gambar, ditunjukkan bahwa untuk setiap bilangan kompleks $z = a + bi$, kita dapat mendefinisikan konjugat kompleksnya sebagai:\n",
        "\n",
        "$$\n",
        "z^* = a - bi \\tag{5.8}\n",
        "$$\n",
        "\n",
        "Konjugat ini adalah pencerminan titik $z$ terhadap sumbu real pada bidang kompleks (complex plane). Ini memberikan intuisi visual bahwa setiap bilangan kompleks dapat direpresentasikan sebagai vektor dari titik asal ke titik $(a, b)$ dalam bidang dua dimensi, di mana sumbu-x mewakili bagian real dan sumbu-y mewakili bagian imajiner.\n",
        "\n",
        "Berdasarkan konsep ini, kita bisa melangkah lebih jauh untuk menuliskan bilangan kompleks dalam bentuk **polar**, yaitu berdasarkan panjang vektor dan sudut yang dibentuk terhadap sumbu real.\n",
        "\n",
        "Jika kita punya $z = a + bi$, maka:\n",
        "\n",
        "* Panjang vektor (modulus) diberikan oleh:\n",
        "\n",
        "  $$\n",
        "  r = |z| = \\sqrt{a^2 + b^2} \\tag{5.12}\n",
        "  $$\n",
        "* Sudut (argumen) yang dibentuk terhadap sumbu real:\n",
        "\n",
        "  $$\n",
        "  \\theta = \\arg(z) = \\tan^{-1}\\left(\\frac{b}{a}\\right) \\tag{5.13}\n",
        "  $$\n",
        "\n",
        "Sehingga kita dapat menuliskan kembali:\n",
        "\n",
        "$$\n",
        "a = r \\cos \\theta,\\quad b = r \\sin \\theta\n",
        "$$\n",
        "\n",
        "dan bilangan kompleks menjadi:\n",
        "\n",
        "$$\n",
        "z = a + bi = r(\\cos \\theta + i \\sin \\theta)\n",
        "$$\n",
        "\n",
        "#### Bentuk Eksponensial (Euler)\n",
        "\n",
        "Dengan menggunakan rumus Euler:\n",
        "\n",
        "$$\n",
        "e^{i\\theta} = \\cos \\theta + i \\sin \\theta\n",
        "$$\n",
        "\n",
        "maka kita dapat menulis bentuk polar sebagai:\n",
        "\n",
        "$$\n",
        "z = re^{i\\theta}\n",
        "$$\n"
      ],
      "metadata": {
        "id": "EFJd8CH4cpm-"
      },
      "id": "EFJd8CH4cpm-"
    },
    {
      "cell_type": "markdown",
      "source": [
        "### **Hyperbolic Functions**\n",
        "\n",
        "Fungsi hiperbolik, seperti $\\sinh$, $\\cosh$, dan $\\tanh$, adalah fungsi trigonometri tetapi berbasis hiperbola, bukan lingkaran. Fungsi ini sering digunakan dalam analisis bilangan kompleks, terutama dalam solusi persamaan diferensial dan analisis sistem dinamis.\n",
        "\n",
        "#### Definisi Fungsi Hiperbolik\n",
        "\n",
        "Fungsi hiperbolik didefinisikan dalam bentuk eksponensial sebagai berikut:\n",
        "\n",
        "1. **Sine Hiperbolik (sinh)**:\n",
        "   $$\n",
        "   \\sinh(z) = \\frac{e^z - e^{-z}}{2}.\n",
        "   $$\n",
        "\n",
        "2. **Cosine Hiperbolik (cosh)**:\n",
        "   $$\n",
        "   \\cosh(z) = \\frac{e^z + e^{-z}}{2}.\n",
        "   $$\n",
        "\n",
        "3. **Tangent Hiperbolik (tanh)**:\n",
        "   $$\n",
        "   \\tanh(z) = \\frac{\\sinh(z)}{\\cosh(z)} = \\frac{e^z - e^{-z}}{e^z + e^{-z}}.\n",
        "   $$\n",
        "\n",
        "di mana \\(z\\) bisa berupa bilangan real atau bilangan kompleks.\n",
        "\n",
        "### Hyperbolic Identities\n",
        "\n",
        "Fungsi hiperbolik memiliki beberapa identitas dasar, termasuk:\n",
        "$$\n",
        "\\cosh^2(z) - \\sinh^2(z) = 1.\n",
        "$$\n",
        "\n",
        "Identitas ini mirip dengan identitas dasar fungsi trigonometri, namun berbasis hiperbola.\n",
        "\n",
        "Ketika \\(z\\) adalah bilangan kompleks, fungsi hiperbolik dapat dihitung dengan cara yang sama, namun melibatkan bagian real dan imajiner dari \\(z\\). Misalnya, jika:\n",
        "$$\n",
        "z = x + yi,\n",
        "$$\n",
        "maka:\n",
        "- $\\sinh(z)$ dan $\\cosh(z)$ akan memiliki bagian real dan imajiner yang dihitung menggunakan sifat eksponensial dari bilangan kompleks.\n",
        "\n",
        "### Water Waves\n",
        "\n",
        "Bilangan kompleks memainkan peran penting dalam analisis gelombang air. Dalam fisika dan teknik, gelombang air sering dimodelkan menggunakan persamaan gelombang yang mencakup elemen amplitudo, frekuensi, panjang gelombang, dan fasa. Representasi bilangan kompleks memudahkan analisis ini dengan menawarkan metode yang kompak untuk menyatakan gelombang osilasi.\n",
        "\n",
        "### Representasi Gelombang dengan Bilangan Kompleks\n",
        "\n",
        "Gelombang pada permukaan air dapat direpresentasikan secara umum sebagai:\n",
        "$$\n",
        "\\psi(x, t) = A \\cos(kx - \\omega t),\n",
        "$$\n",
        "di mana:\n",
        "- $( \\psi(x, t) )$ adalah tinggi gelombang pada posisi \\(x\\) dan waktu \\(t\\),\n",
        "- $(A)$ adalah amplitudo gelombang,\n",
        "- $(k)$ adalah bilangan gelombang,\n",
        "- $(\\omega)$ adalah frekuensi sudut.\n",
        "\n",
        "### Solusi dalam Persamaan Gelombang\n",
        "\n",
        "Persamaan gelombang dua dimensi untuk tinggi gelombang $( \\psi(x, t) )$ sering kali dirumuskan sebagai:\n",
        "$$\n",
        "\\frac{\\partial^2 \\psi}{\\partial t^2} - c^2 \\frac{\\partial^2 \\psi}{\\partial x^2} = 0,\n",
        "$$\n",
        "dengan \\(c\\) sebagai kecepatan propagasi gelombang. Dengan menggunakan bilangan kompleks, solusi dapat ditulis sebagai:\n",
        "$$\n",
        "\\psi(x, t) = A e^{i(kx - \\omega t)}.\n",
        "$$\n",
        "\n",
        "Pendekatan ini sangat bermanfaat dalam menyelesaikan persamaan gelombang dengan kondisi batas tertentu, serta dalam analisis gelombang yang bergerak dalam media yang kompleks.\n",
        "### Contoh Soal\n",
        "\n",
        "Selesaikan persamaan kuadrat berikut:\n",
        "\n",
        "1.\n",
        "$$\n",
        "x^2 + 25 = 0\n",
        "$$\n",
        "\n",
        "2.\n",
        "$$\n",
        "25x^2 - 10x + 2 = 0\n",
        "$$\n",
        "\n",
        "\n"
      ],
      "metadata": {
        "id": "A7RJ_dhJdEmn"
      },
      "id": "A7RJ_dhJdEmn"
    },
    {
      "cell_type": "code",
      "source": [
        "# Import library untuk menyelesaikan persamaan kuadrat\n",
        "import sympy as sp\n",
        "\n",
        "# Definisikan variabel\n",
        "x = sp.symbols('x')\n",
        "\n",
        "# Soal nomor 1: x^2 + 25 = 0\n",
        "sol1 = sp.solve(x**2 + 25, x)\n",
        "\n",
        "# Soal nomor 2: 25x^2 - 10x + 2 = 0\n",
        "sol2 = sp.solve(25*x**2 - 10*x + 2, x)\n",
        "print(\"Solusi soal nomor 1: x^2 + 25 = 0 adalah\", sol1)\n",
        "print(\"Solusi soal nomor 2: 25x^2 - 10x + 2 = 0 adalah\", sol2)\n"
      ],
      "metadata": {
        "colab": {
          "base_uri": "https://localhost:8080/"
        },
        "id": "HTVoh4y4gcU3",
        "outputId": "6bc014a2-2e9a-4d73-9d30-55a1e9c41bd5"
      },
      "id": "HTVoh4y4gcU3",
      "execution_count": null,
      "outputs": [
        {
          "output_type": "stream",
          "name": "stdout",
          "text": [
            "Solusi soal nomor 1: x^2 + 25 = 0 adalah [-5*I, 5*I]\n",
            "Solusi soal nomor 2: 25x^2 - 10x + 2 = 0 adalah [1/5 - I/5, 1/5 + I/5]\n"
          ]
        }
      ]
    },
    {
      "cell_type": "markdown",
      "source": [
        "### **DIFERENSIASI**"
      ],
      "metadata": {
        "id": "NZEa7SMhTYi2"
      },
      "id": "NZEa7SMhTYi2"
    },
    {
      "cell_type": "markdown",
      "source": [
        "Diferensiasi dalam kalkulus adalah proses untuk menentukan turunan dari suatu fungsi. Turunan ini menunjukkan laju perubahan suatu fungsi terhadap variabel.\n"
      ],
      "metadata": {
        "id": "pv1xfZkzTmyJ"
      },
      "id": "pv1xfZkzTmyJ"
    },
    {
      "cell_type": "markdown",
      "source": [
        "#### **Gradien**"
      ],
      "metadata": {
        "id": "u4AwWtTENHk7"
      },
      "id": "u4AwWtTENHk7"
    },
    {
      "cell_type": "markdown",
      "source": [
        "Gradien suatu kurva pada titik tertentu adalah laju perubahan nilai fungsi di titik tersebut.\n",
        "Secara geometris, untuk kurva $𝑦 = 𝑓(𝑥)$, gradien di suatu titik adalah kemiringan garis singgung ke kurva pada titik itu.\n",
        "\n",
        "Untuk menentukan gradien sebenarnya, kita menggunakan titik penyesuaian untuk memperkirakan gradien, yaitu:\n",
        "\n",
        "$$\\frac{\\delta y}{\\delta x} = \\frac{y_Q - y_P}{x_Q - x_P} \\tag{6.1}$$ \\\n",
        "\n",
        "Semakin dekat $Q$ ke $P$, maka nilai ini makin mendekati gradien sesungguhnya. Kedekatan ini dapat diwakili dengan $h = \\delta x = x_Q - x_P$ dan kita biarkan $h \\to 0$.\n"
      ],
      "metadata": {
        "id": "1Ud2TG_vQ1k9"
      },
      "id": "1Ud2TG_vQ1k9"
    },
    {
      "cell_type": "markdown",
      "source": [
        "<center>\n",
        "\n",
        "![definisi gradien](https://drive.google.com/uc?export=view&id=1oYErnEMWyQjysfyb7FsfYiTMnavjJLd-)\n",
        "\n",
        "**Gambar** Definisi Gradien"
      ],
      "metadata": {
        "id": "YMhc1RvHKwgV"
      },
      "id": "YMhc1RvHKwgV"
    },
    {
      "cell_type": "markdown",
      "source": [
        "Misal $x_P = a$, sehingga koordinat untuk kurva $y = x^3$ di titik $P$ adalah  $(a, a^3)$, dan titik $Q$ menjadi $\\left(a + h,\\ (a + h)^3\\right).$\n",
        "\n",
        "Maka, gradien garis $PQ$ adalah:\n",
        "\n",
        "$$\\frac{\\delta y}{\\delta x} = \\frac{(a + h)^3 - a^3}{(a + h) - a} = \\frac{(a + h)^3 - a^3}{h} \\tag{6.2}$$\n",
        "\n",
        "Karena $\n",
        "(a + h)^3 = a^3 + 3a^2h + 3ah^2 + h^3,\n",
        "$ kita dapatkan:\n",
        "\n",
        "$$\\frac{\\delta y}{\\delta x} = \\frac{a^3 + 3a^2h + 3ah^2 + h^3 - a^3}{h} = {3a^2 + 3ah + h^2} \\tag{6.3}$$\n",
        "\n",
        "Ketika $h \\to 0$, maka $3ah \\to 0$ dan $h^2 \\to 0$, sehingga gradien sesungguhnya dari $x^3$ pada $x = a$ adalah $\\frac{dy}{dx} = 3a^2$. Maka, gradien dari $x^3$ adalah $3x^2$.\n",
        "\n"
      ],
      "metadata": {
        "id": "KGm4IX3IPv76"
      },
      "id": "KGm4IX3IPv76"
    },
    {
      "cell_type": "markdown",
      "source": [
        "<center>\n",
        "\n",
        "![limit yang tidak terdefinisi](https://drive.google.com/uc?export=view&id=1oYs_OwgfXpB_8AkSP4azaVTi-AXMuYXL)\n",
        "\n",
        "**Gambar** Limit yang Tidak Terdefinisi"
      ],
      "metadata": {
        "id": "cuGV6lQ4hQyS"
      },
      "id": "cuGV6lQ4hQyS"
    },
    {
      "cell_type": "markdown",
      "source": [
        "Nilai limit dari $\\lim_{h \\to 0}$ harus ada. Jika nilai limit ini tidak ada, maka turunan atau gradien tidak terdefinisi. Sebagai contoh, gradien dari fungsi sederhana \\( $f(x) = |x|$ di $x = 0$ \\) tidak ada (lihat Gambar). Hal ini karena kita mendapatkan nilai yang berbeda tergantung dari arah pendekatan ke \\( $x = 0$ \\).\n",
        "\n",
        "Jika kita mendekati $h \\to 0$ dari arah kanan \\( $h > 0$ \\), kita menulisnya sebagai $h \\to 0^+$, maka:\n",
        "\n",
        "$$\n",
        "f'(0^+) = \\lim_{h \\to 0^+} \\frac{|h| - |0|}{h} = \\lim_{h \\to 0^+} \\frac{h}{h} = \\lim_{h \\to 0^+} 1 = 1\n",
        "$$\n",
        "\n",
        "Namun, jika didekati dari kiri \\( $h < 0$ \\), maka ditulis sebagai $h \\to 0^-$:\n",
        "\n",
        "$$\n",
        "f'(0^-) = \\lim_{h \\to 0^-} \\frac{|h| - |0|}{h} = \\lim_{h \\to 0^-} \\frac{-h}{h} = \\lim_{h \\to 0^-} -1 = -1\n",
        "$$\n",
        "\n",
        "Definisi yang benar untuk turunan harus independen dari arah pendekatan ke titik tersebut. Jadi, jika nilai limit dari kanan dan kiri berbeda, kita simpulkan turunan di \\( $x = 0$ \\) tidak ada.\n"
      ],
      "metadata": {
        "id": "sl4r4L-Lw1KJ"
      },
      "id": "sl4r4L-Lw1KJ"
    },
    {
      "cell_type": "markdown",
      "source": [
        "#### **Aturan Differentiation**"
      ],
      "metadata": {
        "id": "969KLTN9culv"
      },
      "id": "969KLTN9culv"
    },
    {
      "cell_type": "markdown",
      "source": [
        "##### **Aturan Rantai**"
      ],
      "metadata": {
        "id": "Z1s0_CW-N_jn"
      },
      "id": "Z1s0_CW-N_jn"
    },
    {
      "cell_type": "markdown",
      "source": [
        "Ide kuantitas infinitesimal:\n",
        "\n",
        "*   Misalnya, jika $y=f(u)$ dan $u=g(x)$, maka $y$ bergantung pada $x$ secara tidak langsung melalui $u$.\n",
        "*   Dengan kata lain, $y = f(g(x))$\n",
        "\n",
        "Jika kita ingin tahu seberapa cepat $y$ berubah terhadap $x$, kita bisa melihat perubahan $y$ terhadap $u$, dan perubahan $u$ terhadap $x$, lalu mengalikannya.\n",
        "\n",
        "Aturan rantai secara matematis:\n",
        "\n",
        "$$\\frac{dy}{dx} = \\frac{dy}{du} \\cdot \\frac{du}{dx} \\tag{6.13}$$\n",
        "\n",
        "Atau dalam bentuk fungsi:\n",
        "\n",
        "$$\\frac{d f[u(x)]}{dx} = \\frac{d f(u)}{du} \\cdot \\frac{d u(x)}{dx} \\tag{6.14}$$\n",
        "\n",
        "\n",
        "\n"
      ],
      "metadata": {
        "id": "PX_a6evXORx4"
      },
      "id": "PX_a6evXORx4"
    },
    {
      "cell_type": "markdown",
      "source": [
        "#### **Contoh Soal 6.3**"
      ],
      "metadata": {
        "id": "pCuBxRq8Xu4t"
      },
      "id": "pCuBxRq8Xu4t"
    },
    {
      "cell_type": "markdown",
      "source": [
        "Sekarang kita mencari turunan dari $\\sin(x^3)$.\n",
        "Pertama, kita misalkan $u = x^3$, maka:\n",
        "$$\n",
        "\\frac{d(\\sin(x^3))}{dx} = \\frac{d(\\sin u)}{du} \\cdot \\frac{du}{dx} = \\cos u \\cdot 3x^2 = 3x^2 \\cos(x^3)\n",
        "$$\n",
        "\n",
        "Kemudian:\n",
        "\n",
        "$$\n",
        "\\frac{d(\\sin^n(x))}{dx} = n \\sin^{n-1}(x) \\cdot \\cos(x)\n",
        "$$"
      ],
      "metadata": {
        "id": "0b4_Qu7sXxBP"
      },
      "id": "0b4_Qu7sXxBP"
    },
    {
      "cell_type": "code",
      "source": [
        "from sympy import symbols, sin, cos, diff\n",
        "\n",
        "# Definisikan variabel\n",
        "x = symbols('x')\n",
        "u = x**3\n",
        "\n",
        "# Contoh 1: Turunan dari sin(x^3)\n",
        "f1 = sin(u)\n",
        "df1_dx = diff(f1, x)  # Secara otomatis menggunakan aturan rantai\n",
        "print(\"Turunan dari sin(x^3):\", df1_dx)\n",
        "\n",
        "# Contoh 2: Turunan dari sin^n(x)\n",
        "n = symbols('n')  # n dianggap sebagai bilangan bulat sembarang\n",
        "f2 = sin(x)**n\n",
        "df2_dx = diff(f2, x)\n",
        "print(\"Turunan dari sin^n(x):\", df2_dx)"
      ],
      "metadata": {
        "colab": {
          "base_uri": "https://localhost:8080/"
        },
        "id": "lmj9kIFiYkbB",
        "outputId": "4164c5f6-7628-4507-ebef-041ef07723b1"
      },
      "id": "lmj9kIFiYkbB",
      "execution_count": null,
      "outputs": [
        {
          "output_type": "stream",
          "name": "stdout",
          "text": [
            "Turunan dari sin(x^3): 3*x**2*cos(x**3)\n",
            "Turunan dari sin^n(x): n*sin(x)**n*cos(x)/sin(x)\n"
          ]
        }
      ]
    },
    {
      "cell_type": "markdown",
      "source": [
        "##### **Aturan Perkalian Fungsi**"
      ],
      "metadata": {
        "id": "me3EAJtna9lE"
      },
      "id": "me3EAJtna9lE"
    },
    {
      "cell_type": "markdown",
      "source": [
        "Misalkan $y = uv$, di mana $u(x)$ dan $v(x)$ adalah fungsi dari $x$. Berdasarkan definisi turunan, kita punya:\n",
        "\n",
        "$$\n",
        "\\frac{dy}{dx} = \\frac{d(uv)}{dx} = \\lim_{h \\to 0} \\frac{u(x + h)v(x + h) - u(x)v(x)}{h} \\tag{6.15}\\\n",
        "$$\n",
        "\n",
        "Karena menambahkan dan mengurangkan suku yang sama tidak mengubah ekspresi, kita bisa menulis:\n",
        "\n",
        "$$\n",
        "\\frac{u(x + h)v(x + h) - u(x)v(x)}{h}\n",
        "$$\n",
        "\n",
        "dengan menambahkan dan mengurangkan $u(x + h)v(x)$:\n",
        "\n",
        "$$ = \\frac{u(x + h)v(x + h) - u(x + h)v(x) + u(x + h)v(x) - u(x)v(x)}{h}$$\n",
        "\n",
        "Kelompokkan:\n",
        "\n",
        "$$\n",
        "= u(x + h) \\cdot \\frac{v(x + h) - v(x)}{h} + v(x) \\cdot \\frac{u(x + h) - u(x)}{h} \\tag{6.16}\\\n",
        "$$\n",
        "\n",
        "Karena $u(x + h) \\to u(x)$ saat $h \\to 0$, maka hasil akhirnya:\n",
        "\n",
        "$$\n",
        "\\frac{d(uv)}{dx} = \\lim_{h \\to 0} \\left[ u(x + h) \\cdot \\frac{v(x + h) - v(x)}{h} + v(x) \\cdot \\frac{u(x + h) - u(x)}{h} \\right]\n",
        "$$\n",
        "\n",
        "$$\n",
        "= u \\cdot \\frac{dv}{dx} + v \\cdot \\frac{du}{dx} \\tag{6.17}\\\n",
        "$$\n",
        "\n",
        "Atau secara ringkas:\n",
        "\n",
        "$$\n",
        "(uv)' = u'v + uv' \\tag{6.18}\\\n",
        "$$\n"
      ],
      "metadata": {
        "id": "qLtz8hKFb1Fa"
      },
      "id": "qLtz8hKFb1Fa"
    },
    {
      "cell_type": "markdown",
      "source": [
        "#### **Turunan Parsial**"
      ],
      "metadata": {
        "id": "HWCaur4Fd8uW"
      },
      "id": "HWCaur4Fd8uW"
    },
    {
      "cell_type": "markdown",
      "source": [
        "<center>\n",
        "\n",
        "![turunan parsial](https://drive.google.com/uc?export=view&id=1oaJbEn0vtuZ9NyJbaCNPrHXRCuF6d72Z)\n",
        "\n",
        "*Gambar* Turunan Parsial"
      ],
      "metadata": {
        "id": "nFH7z_Pqiyqj"
      },
      "id": "nFH7z_Pqiyqj"
    },
    {
      "cell_type": "markdown",
      "source": [
        "Untuk sebuah kurva halus, kita bisa dengan mudah menggambar garis singgung di setiap titik.\n",
        "Namun, untuk permukaan halus, kita harus menggunakan bidang singgung.\n",
        "Misalnya, kita ingin mengambil turunan dari fungsi dua variabel bebas $z = f (x,y)$, misal:\n",
        "\n",
        "$$z = x^2 + \\frac{y^2}{2}$$\n",
        "\n",
        "Turunan parsial, adalah turunan yang memiliki lebih dari 1 variabel, sehingga kita menggunakan 1 variabel saja dengan menganggap variabel lainnya konstan. Dengan notasi sebagai berikut:\n",
        "\n",
        "$$\\frac{\\partial z}{\\partial x} \\text{ atau } f_x$$\n",
        "\n",
        "yang berarti turunan parsial terhadap $x$, dengan $y$ dianggap tetap.\n",
        "\n",
        "Secara formal:\n",
        "\n",
        "$$\\frac{\\partial f(x, y)}{\\partial x} = \\lim_{h \\to 0} \\frac{f(x + h, y) - f(x, y)}{h} \\tag{6.24}$$\n",
        "\n",
        "Demikian pula, untuk turunan terhadap $y$:\n",
        "\n",
        "$$\\frac{\\partial z}{\\partial y} \\text{ atau } f_y$$\n",
        "\n",
        "atau:\n",
        "\n",
        "$$\\frac{\\partial f(x, y)}{\\partial y} = \\lim_{k \\to 0} \\frac{f(x, y + k) - f(x, y)}{k} \\tag{6.25}$$"
      ],
      "metadata": {
        "id": "ictk19OAfiIn"
      },
      "id": "ictk19OAfiIn"
    },
    {
      "cell_type": "markdown",
      "source": [
        "#### **Titik Maksimum & Minimum**"
      ],
      "metadata": {
        "id": "0hJr5XuFkHFT"
      },
      "id": "0hJr5XuFkHFT"
    },
    {
      "cell_type": "markdown",
      "source": [
        "<center>\n",
        "\n",
        "![titik stasioner, minimum, dan maksimum](https://drive.google.com/uc?export=view&id=1ocSd4wQ1AXEvp5Sg7ly-kNPKOkrKHq5X)\n",
        "\n",
        "**Gambar**  Titik Stasioner, Minimum dan Maksimum"
      ],
      "metadata": {
        "id": "n6Accjd0-PWj"
      },
      "id": "n6Accjd0-PWj"
    },
    {
      "cell_type": "markdown",
      "source": [
        "Pada gambar, terlihat terdapat tiga titik — A, B, dan C — yang memiliki gradien nol (garis horizontal).\n",
        "Jika turunan pertama $f′(x) = 0$ di suatu titik, maka titik tersebut disebut titik stasioner.\n",
        "\n",
        "Perbedaan Maksimum atau Minimum\n",
        "\n",
        "*   Jika di sekitar titik tersebut gradien berubah dari positif ke negatif, berarti itu adalah maksimum lokal.\n",
        "*   Jika gradien berubah dari negatif ke positif, berarti itu adalah minimum lokal.\n",
        "\n",
        "Peran Turunan Kedua:\n",
        "\n",
        "*   Jika $f′′(x) < 0$ pada titik stasioner → Maksimum lokal.\n",
        "*   Jika $f′′(x) > 0$ pada titik stasioner → Minimum lokal.\n",
        "\n",
        "Namun, $f′(x) = 0$, tidak selalu berarti ada titik maksimum atau minimum!\n",
        "\n",
        "Contoh:\n",
        "\n",
        "Kurva $y = x^3$ di titik $x = 0$.\n",
        "\n",
        "\n",
        "*   $f′(0) = 0$ karena ($f′(x) = 3x2).$\n",
        "*   Tetapi $f′′(0) = 0$ juga karena ($f′′ (x) = 6x).$\n",
        "\n",
        "Artinya, titik ini bukan maksimum atau minimum, melainkan titik belok (inflexion point) yaitu titik di mana kelengkungan kurva berubah.\n"
      ],
      "metadata": {
        "id": "eRH6uj8clIlj"
      },
      "id": "eRH6uj8clIlj"
    },
    {
      "cell_type": "markdown",
      "source": [
        "###### **Contoh Soal**"
      ],
      "metadata": {
        "id": "RZDE6ov5PVXl"
      },
      "id": "RZDE6ov5PVXl"
    },
    {
      "cell_type": "markdown",
      "source": [
        "Tentukan koefisien diferensiasi fungsi terhadap variabel berikut:\n",
        "\n",
        "a. $5x^5$"
      ],
      "metadata": {
        "id": "LDDEsv_lXirJ"
      },
      "id": "LDDEsv_lXirJ"
    },
    {
      "cell_type": "code",
      "source": [
        "import sympy as sp\n",
        "\n",
        "# Definisikan variabel\n",
        "x = sp.symbols('x')\n",
        "\n",
        "df_a = sp.diff(5*x**5, x)\n",
        "df_a"
      ],
      "metadata": {
        "colab": {
          "base_uri": "https://localhost:8080/",
          "height": 39
        },
        "id": "Se1dzPHfWLiR",
        "outputId": "7afed5fc-451b-4049-eda6-acc889d367a7"
      },
      "id": "Se1dzPHfWLiR",
      "execution_count": null,
      "outputs": [
        {
          "output_type": "execute_result",
          "data": {
            "text/plain": [
              "25*x**4"
            ],
            "text/latex": "$\\displaystyle 25 x^{4}$"
          },
          "metadata": {},
          "execution_count": 9
        }
      ]
    },
    {
      "cell_type": "markdown",
      "source": [
        "b. $\\frac{1}{(x^3 - 2x + 1)^5}$"
      ],
      "metadata": {
        "id": "Eu3n5pkwcUBy"
      },
      "id": "Eu3n5pkwcUBy"
    },
    {
      "cell_type": "code",
      "source": [
        "fb = 1 / (x**3 - 2*x + 1)**5\n",
        "df_b = sp.diff(fb, x)\n",
        "df_b"
      ],
      "metadata": {
        "colab": {
          "base_uri": "https://localhost:8080/",
          "height": 61
        },
        "id": "07rhrAYzcnKa",
        "outputId": "d1d59416-20ca-4ebd-8d05-3cd01488512e"
      },
      "id": "07rhrAYzcnKa",
      "execution_count": null,
      "outputs": [
        {
          "output_type": "execute_result",
          "data": {
            "text/plain": [
              "(10 - 15*x**2)/(x**3 - 2*x + 1)**6"
            ],
            "text/latex": "$\\displaystyle \\frac{10 - 15 x^{2}}{\\left(x^{3} - 2 x + 1\\right)^{6}}$"
          },
          "metadata": {},
          "execution_count": 10
        }
      ]
    },
    {
      "cell_type": "markdown",
      "source": [
        "c. $z = \\frac{x}{y}$\n",
        "\n",
        "  Tentukan turunan parsial:\n",
        "  \n",
        "$\\frac{\\partial z}{\\partial x}$ dan $\\frac{\\partial z}{\\partial y}$"
      ],
      "metadata": {
        "id": "DfGaZpGMPMS5"
      },
      "id": "DfGaZpGMPMS5"
    },
    {
      "cell_type": "code",
      "source": [
        "x,y = sp.symbols ('x y')\n",
        "z3 = x/y\n",
        "dz3_dx = sp.diff(z3, x)\n",
        "dz3_dy = sp.diff(z3, y)\n",
        "print(\"\\n∂z/∂zx =\", dz3_dx)\n",
        "print(\"∂z/∂zy =\", dz3_dy)"
      ],
      "metadata": {
        "colab": {
          "base_uri": "https://localhost:8080/"
        },
        "id": "8o2WLxNJRFyl",
        "outputId": "4bbac62e-5300-476a-c35d-81fa2b406b0b"
      },
      "id": "8o2WLxNJRFyl",
      "execution_count": null,
      "outputs": [
        {
          "output_type": "stream",
          "name": "stdout",
          "text": [
            "\n",
            "∂z/∂zx = 1/y\n",
            "∂z/∂zy = -x/y**2\n"
          ]
        }
      ]
    },
    {
      "cell_type": "markdown",
      "source": [
        "### **INTEGRASI**"
      ],
      "metadata": {
        "id": "DpVWuwdZffpE"
      },
      "id": "DpVWuwdZffpE"
    },
    {
      "cell_type": "markdown",
      "source": [
        "Integrasi dianggap sebagai kebalikan dari diferensiasi. Secara sederhana, diferensiasi dan integrasi adalah dua sisi dari satu koin. Integral penting dalam mencari luas, menyelesaikan persamaan diferensial, pemrosesan sinyal, serta berbagai cabang ilmu kebumian seperti geodinamika.\n",
        "\n",
        "#### **Integrasi**\n",
        "\n",
        "Diferensiasi digunakan untuk menemukan gradien dari suatu fungsi. Integrasi dapat dianggap sebagai kebalikannya. Misalnya:\n",
        "\n",
        "$$\n",
        "\\frac{d}{dx} (\\sin x) = \\cos x, \\tag{7.1}\n",
        "$$\n",
        "\n",
        "maka\n",
        "\n",
        "$$\n",
        "\\int \\cos x \\, dx = \\sin x + C, \\tag{7.2}\n",
        "$$\n",
        "\n",
        "dengan $C$ sebagai konstanta integrasi.\n",
        "\n",
        "Integrasi dari $x^n$ untuk $n \\neq -1$ diberikan oleh:\n",
        "\n",
        "$$\n",
        "\\int x^n \\, dx = \\frac{1}{n+1} x^{n+1} + C. \\tag{7.3}\n",
        "$$\n",
        "\n",
        "Sedangkan untuk $n = -1$:\n",
        "\n",
        "$$\n",
        "\\int \\frac{1}{x} \\, dx = \\ln x + C. \\tag{7.4}\n",
        "$$\n",
        "\n",
        "Jika $F'(x) = f(x)$, maka:\n",
        "\n",
        "$$\n",
        "\\int_a^b f(x) \\, dx = F(b) - F(a). \\tag{7.5}\n",
        "$$\n",
        "\n",
        "Jika batas integral dibalik:\n",
        "\n",
        "$$\n",
        "\\int_a^b f(x) \\, dx = - \\int_b^a f(x) \\, dx. \\tag{7.6}\n",
        "$$\n",
        "\n",
        "Sifat linear integrasi:\n",
        "\n",
        "$$\n",
        "\\int_a^b [\\alpha f(x) + \\beta g(x)] \\, dx = \\alpha \\int_a^b f(x) \\, dx + \\beta \\int_a^b g(x) \\, dx. \\tag{7.7}\n",
        "$$\n",
        "\n",
        "dan jika $a \\leq c \\leq b$:\n",
        "\n",
        "$$\n",
        "\\int_a^b f(x) \\, dx = \\int_a^c f(x) \\, dx + \\int_c^b f(x) \\, dx. \\tag{7.8}\n",
        "$$\n",
        "\n",
        "Untuk fungsi ganjil:\n",
        "\n",
        "$$\n",
        "\\int_{-a}^a f(x) \\, dx = 0. \\tag{7.9}\n",
        "$$\n",
        "\n",
        "Untuk fungsi genap:\n",
        "\n",
        "$$\n",
        "\\int_{-a}^a f(x) \\, dx = 2 \\int_0^a f(x) \\, dx. \\tag{7.10}\n",
        "$$"
      ],
      "metadata": {
        "id": "rQFwNN3UdDeP"
      },
      "id": "rQFwNN3UdDeP"
    },
    {
      "cell_type": "markdown",
      "source": [
        "<center>\n",
        "\n",
        "**Tabel** Integral dari fungsi umum\n",
        "\n",
        "| $$f(x)$$                       | $$\\displaystyle\\int f(x)\\,dx$$                                     | $$f(x)$$                         | $$\\displaystyle\\int f(x)\\,dx$$                                   |\n",
        "|--------------------------------|---------------------------------------------------------------------|----------------------------------|-----------------------------------------------------------------|\n",
        "| $$e^x$$                        | $$e^x$$                                                             | $$\\dfrac{1}{x}$$                  | $$\\ln x$$                                                       |\n",
        "| $$x^n$$                        | $$\\dfrac{x^{n+1}}{n+1},\\;n\\neq -1$$                                  | $$a^u$$                          | $$\\dfrac{a^u}{\\ln a},\\;a>0$$                                     |\n",
        "| $$\\ln x$$                      | $$x\\ln x - x$$                                                       | $$\\log_a x$$                     | $$x\\log_a x - \\dfrac{x}{\\ln a}$$                                |\n",
        "| $$\\dfrac{1}{a^2 + x^2}$$       | $$\\dfrac{1}{a}\\tan^{-1}\\!\\Bigl(\\dfrac{x}{a}\\Bigr)$$                  | $$\\dfrac{1}{a^2 - x^2}$$         | $$\\dfrac{1}{2a}\\ln\\!\\Bigl(\\dfrac{a+x}{a-x}\\Bigr)$$               |\n",
        "| $$\\dfrac{1}{x^2 - a^2}$$       | $$\\dfrac{1}{2a}\\ln\\!\\Bigl(\\dfrac{x-a}{x+a}\\Bigr)$$                   | $$\\dfrac{1}{\\sqrt{a^2 - x^2}}$$  | $$\\sin^{-1}\\!\\Bigl(\\dfrac{x}{a}\\Bigr)$$                         |\n",
        "| $$\\dfrac{1}{\\sqrt{x^2 + a^2}}$$| $$\\sinh^{-1}\\!\\Bigl(\\dfrac{x}{a}\\Bigr)$$                            | $$\\dfrac{1}{\\sqrt{x^2 - a^2}}$$  | $$\\cosh^{-1}\\!\\Bigl(\\dfrac{x}{a}\\Bigr)$$                        |\n",
        "| $$\\sin x$$                     | $$-\\cos x$$                                                          | $$\\cos x$$                       | $$\\sin x$$                                                     |\n",
        "| $$\\sec^2 x$$                   | $$\\tan x$$                                                           | $$\\csc^2 x$$                     | $$-\\cot x$$                                                   |\n",
        "| $$\\sinh x$$                    | $$\\cosh x$$                                                          | $$\\cosh x$$                      | $$\\sinh x$$                                                    |\n",
        "| $$\\tanh x$$                    | $$\\ln\\!\\cosh x$$                                                     | $$\\coth x$$                      | $$\\ln\\!\\sinh x$$                                               |\n"
      ],
      "metadata": {
        "id": "5Yy1R5FTjalG"
      },
      "id": "5Yy1R5FTjalG"
    },
    {
      "cell_type": "markdown",
      "source": [
        "#### **Integrasi Parsial**\n",
        "\n",
        "Aturan dasar diferensiasi produk:\n",
        "\n",
        "$$\n",
        "\\frac{d}{dx} (uv) = u \\frac{dv}{dx} + v \\frac{du}{dx}, \\tag{7.11}\n",
        "$$\n",
        "\n",
        "diintegrasikan terhadap $x$ menjadi:\n",
        "\n",
        "$$\n",
        "uv = \\int u \\, dv + \\int v \\, du, \\tag{7.12}\n",
        "$$\n",
        "\n",
        "atau disusun ulang menjadi:\n",
        "\n",
        "$$\n",
        "\\int u \\, dv = uv - \\int v \\, du. \\tag{7.13}\n",
        "$$\n",
        "\n",
        "Integrasi parsial berguna untuk menghitung integral dari hasil perkalian dua fungsi.\n",
        "\n"
      ],
      "metadata": {
        "id": "lfvW-6PYgQ-i"
      },
      "id": "lfvW-6PYgQ-i"
    },
    {
      "cell_type": "markdown",
      "source": [
        "#### **Integrasi Subtitusi**\n",
        "\n",
        "Kadang-kadang integrasi dapat disederhanakan dengan substitusi variabel. Misalkan:\n",
        "\n",
        "$$\n",
        "u = g(x),\n",
        "$$\n",
        "\n",
        "maka:\n",
        "\n",
        "$$\n",
        "du = g'(x) \\, dx, \\quad dx = \\frac{1}{g'(x)}du. \\tag{7.24}\n",
        "$$\n",
        "\n",
        "Sehingga integral:\n",
        "\n",
        "$$ I = \\int f(x) dx = \\int f[g^-1(u)] \\frac{1}{g'}du \\tag{7.25}$$"
      ],
      "metadata": {
        "id": "OLatf2EWgyGf"
      },
      "id": "OLatf2EWgyGf"
    },
    {
      "cell_type": "markdown",
      "source": [
        "#### **Contoh Soal**"
      ],
      "metadata": {
        "id": "4N8cp1ZcvUEs"
      },
      "id": "4N8cp1ZcvUEs"
    },
    {
      "cell_type": "markdown",
      "source": [
        "1. Hitung integral dari $\\int x^2 dx$"
      ],
      "metadata": {
        "id": "VTbgVyx7fEVw"
      },
      "id": "VTbgVyx7fEVw"
    },
    {
      "cell_type": "code",
      "source": [
        "from sympy import *\n",
        "\n",
        "# Definisikan simbol\n",
        "x= symbols('x')"
      ],
      "metadata": {
        "id": "-U2ESDPcui-C"
      },
      "id": "-U2ESDPcui-C",
      "execution_count": null,
      "outputs": []
    },
    {
      "cell_type": "code",
      "source": [
        "# Menghitung integral dari x^2 terhadap x\n",
        "integral_1 = integrate(x**2, x)\n",
        "integral_1  # Tampilkan hasil integral"
      ],
      "metadata": {
        "colab": {
          "base_uri": "https://localhost:8080/",
          "height": 54
        },
        "id": "e4VwuoJ2wTtV",
        "outputId": "5634d9e5-9dcf-4f1c-8b71-f88bb3add071"
      },
      "id": "e4VwuoJ2wTtV",
      "execution_count": null,
      "outputs": [
        {
          "output_type": "execute_result",
          "data": {
            "text/plain": [
              "x**3/3"
            ],
            "text/latex": "$\\displaystyle \\frac{x^{3}}{3}$"
          },
          "metadata": {},
          "execution_count": 8
        }
      ]
    },
    {
      "cell_type": "markdown",
      "source": [
        "2. Hitung integral berikut menggunakan subtitusi:\n",
        "\n",
        " $\\int x. \\sqrt{x^2+1} dx$\n",
        "\n",
        "Gunakan subtitusi $u = x^2 + 1$"
      ],
      "metadata": {
        "id": "rR70mLOqf31o"
      },
      "id": "rR70mLOqf31o"
    },
    {
      "cell_type": "code",
      "source": [
        "from sympy import *\n",
        "\n",
        "# Definisikan simbol\n",
        "x, u= symbols('x u')"
      ],
      "metadata": {
        "id": "4Tl-q3oDgimr"
      },
      "id": "4Tl-q3oDgimr",
      "execution_count": null,
      "outputs": []
    },
    {
      "cell_type": "code",
      "source": [
        "# Substitusi: u = x^2 + 1 sehingga dx = du / (2x)\n",
        "u = symbols('u')\n",
        "\n",
        "# Bentuk setelah substitusi: (1/2) * sqrt(u)\n",
        "subs_expr = (1/2) * sqrt(u)\n",
        "\n",
        "# Hitung integral terhadap u\n",
        "integral_2_u = integrate(subs_expr, u)\n",
        "\n",
        "# Kembalikan dari u ke x\n",
        "integral_2 = integral_2_u.subs(u, x**2 + 1)\n",
        "integral_2  # Tampilkan hasil\n"
      ],
      "metadata": {
        "colab": {
          "base_uri": "https://localhost:8080/",
          "height": 44
        },
        "id": "2xYG2LcrgeFP",
        "outputId": "01e4cee6-bcbb-49d0-a518-3383e4b15e6c"
      },
      "id": "2xYG2LcrgeFP",
      "execution_count": null,
      "outputs": [
        {
          "output_type": "execute_result",
          "data": {
            "text/plain": [
              "0.333333333333333*(x**2 + 1)**(3/2)"
            ],
            "text/latex": "$\\displaystyle 0.333333333333333 \\left(x^{2} + 1\\right)^{\\frac{3}{2}}$"
          },
          "metadata": {},
          "execution_count": 9
        }
      ]
    },
    {
      "cell_type": "markdown",
      "source": [
        "3. Hitung:\n",
        "$$\n",
        "\\int x \\cdot e^x \\, dx\n",
        "$$\n",
        "\n",
        "Gunakan metode integrasi parsial:\n",
        "- \\( u = x \\), \\( dv = e^x dx \\)"
      ],
      "metadata": {
        "id": "3NgF-1b2hBHl"
      },
      "id": "3NgF-1b2hBHl"
    },
    {
      "cell_type": "code",
      "source": [
        "# Atur u = x, dv = e^x\n",
        "u = x\n",
        "dv = exp(x)\n",
        "\n",
        "# Hitung turunan u dan integral dv\n",
        "du = diff(u, x)\n",
        "v = integrate(dv, x)\n",
        "\n",
        "# Gunakan rumus integrasi parsial: ∫u dv = u*v - ∫v du\n",
        "integral_3 = u*v - integrate(v*du, x)\n",
        "integral_3  # Tampilkan hasil\n"
      ],
      "metadata": {
        "colab": {
          "base_uri": "https://localhost:8080/",
          "height": 39
        },
        "id": "kbmK9zIQhHCh",
        "outputId": "3b4e611f-0e01-4ace-823c-7376d3442b66"
      },
      "id": "kbmK9zIQhHCh",
      "execution_count": null,
      "outputs": [
        {
          "output_type": "execute_result",
          "data": {
            "text/plain": [
              "x*exp(x) - exp(x)"
            ],
            "text/latex": "$\\displaystyle x e^{x} - e^{x}$"
          },
          "metadata": {},
          "execution_count": 10
        }
      ]
    }
  ],
  "metadata": {
    "kernelspec": {
      "display_name": "my_env",
      "language": "python",
      "name": "python3"
    },
    "language_info": {
      "codemirror_mode": {
        "name": "ipython",
        "version": 3
      },
      "file_extension": ".py",
      "mimetype": "text/x-python",
      "name": "python",
      "nbconvert_exporter": "python",
      "pygments_lexer": "ipython3",
      "version": "3.11.2"
    },
    "colab": {
      "provenance": [],
      "collapsed_sections": [
        "nR1gGhyhgCrW"
      ],
      "toc_visible": true,
      "include_colab_link": true
    }
  },
  "nbformat": 4,
  "nbformat_minor": 5
}